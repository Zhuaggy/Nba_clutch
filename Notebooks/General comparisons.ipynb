{
 "cells": [
  {
   "cell_type": "code",
   "execution_count": 66,
   "metadata": {
    "collapsed": true
   },
   "outputs": [],
   "source": [
    "%matplotlib inline\n",
    "import nba_py as nba\n",
    "from nba_py import player\n",
    "import requests\n",
    "import pandas as pd\n",
    "import numpy as np\n",
    "import matplotlib.pyplot as plt\n",
    "import seaborn as sns\n",
    "import tqdm\n",
    "import math"
   ]
  },
  {
   "cell_type": "markdown",
   "metadata": {},
   "source": [
    "We will look into some general metrics and see how the overall trend compares for shot clock time, playoffs, 4th quarter and determine which metrics are important for determining clutchness"
   ]
  },
  {
   "cell_type": "code",
   "execution_count": null,
   "metadata": {
    "collapsed": true
   },
   "outputs": [],
   "source": [
    "#loop through and get shot percentages for players between regular season and 4th quarter\n",
    "\n",
    "#Also need to append player ID/Names"
   ]
  },
  {
   "cell_type": "code",
   "execution_count": 258,
   "metadata": {
    "collapsed": true
   },
   "outputs": [],
   "source": [
    "def get_player_data(pl_id):\n",
    "    #Takes in player id and returns dataframe with player's historical data under specific conditions\n",
    "    #We are observing shot percentages, rebounds, assists, turnovers and blocks\n",
    "    #overall year by year data\n",
    "    p_df1 = player.PlayerYearOverYearSplits(pl_id, period = '0').by_year()\n",
    "    p_df1 = p_df1[['GROUP_VALUE','FG_PCT','FG3_PCT', 'FT_PCT', 'OREB', 'DREB',\n",
    "                           'REB', 'AST', 'TOV', 'STL', 'BLK']]\n",
    "    if p_df1.empty == False:\n",
    "        p_df1 = p_df1.groupby(['GROUP_VALUE']).mean()\n",
    "        p_df1 = p_df1.reset_index()\n",
    "    \n",
    "    p_df2 = player.PlayerYearOverYearSplits(pl_id, period = '4').by_year()\n",
    "    p_df2 = p_df2[['GROUP_VALUE','FG_PCT','FG3_PCT', 'FT_PCT', 'OREB', 'DREB',\n",
    "                           'REB', 'AST', 'TOV', 'STL', 'BLK']]\n",
    "    if p_df2.empty == False:\n",
    "        p_df2 = p_df2.groupby(['GROUP_VALUE']).mean()\n",
    "        p_df2 = p_df2.reset_index()\n",
    "    p_df2.columns = ['GROUP_VALUE','4Q_FG_PCT','4Q_FG3_PCT', '4Q_FT_PCT', '4Q_OREB', '4Q_DREB',\n",
    "                        '4Q_REB', '4Q_AST', '4Q_TOV', '4Q_STL', '4Q_BLK']\n",
    "\n",
    "    p_main = pd.merge(p_df1,p_df2, how = 'left', on ='GROUP_VALUE')\n",
    "\n",
    "    p_df3 = player.PlayerYearOverYearSplits(pl_id, season_type = 'Playoffs').by_year()\n",
    "    p_df3 = p_df3[['GROUP_VALUE','FG_PCT','FG3_PCT', 'FT_PCT', 'OREB', 'DREB',\n",
    "                        'REB', 'AST', 'TOV', 'STL', 'BLK']]\n",
    "    if p_df3.empty == False:\n",
    "        p_df3 = p_df3.groupby(['GROUP_VALUE']).mean()\n",
    "        p_df3 = p_df3.reset_index()\n",
    "    p_df3.columns = ['GROUP_VALUE','PO_FG_PCT','PO_FG3_PCT', 'PO_FT_PCT', 'PO_OREB', 'PO_DREB',\n",
    "                        'PO_REB', 'PO_AST', 'PO_TOV', 'PO_STL', 'PO_BLK']\n",
    "\n",
    "    p_main = pd.merge(p_main, p_df3, how='left', on = 'GROUP_VALUE')\n",
    "    \n",
    "    p_df4 = player.PlayerYearOverYearSplits(pl_id, shot_clock_range = '4-0 Very Late').by_year()\n",
    "    p_df4 = p_df4[['GROUP_VALUE','FG_PCT','FG3_PCT', 'FT_PCT', 'OREB', 'DREB',\n",
    "                        'REB', 'AST', 'TOV', 'STL', 'BLK']]\n",
    "    if p_df4.empty == False:\n",
    "        p_df4 = p_df4.groupby(['GROUP_VALUE']).mean()\n",
    "        p_df4 = p_df4.reset_index()\n",
    "    p_df4.columns = ['GROUP_VALUE','SC_FG_PCT','SC_FG3_PCT', 'SC_FT_PCT', 'SC_OREB', 'SC_DREB',\n",
    "                        'SC_REB', 'SC_AST', 'SC_TOV', 'SC_STL', 'SC_BLK']\n",
    "\n",
    "    p_main = pd.merge(p_main, p_df4, how='left', on = 'GROUP_VALUE')\n",
    "    p_main['PERSON_ID'] = [pl_id]*len(p_main)\n",
    "    \n",
    "    return (p_main)\n"
   ]
  },
  {
   "cell_type": "code",
   "execution_count": 252,
   "metadata": {},
   "outputs": [],
   "source": [
    "plist = player.PlayerList(league_id='00', season='2016-17')\n",
    "player_ids = plist.info()['PERSON_ID']"
   ]
  },
  {
   "cell_type": "code",
   "execution_count": 273,
   "metadata": {},
   "outputs": [
    {
     "name": "stderr",
     "output_type": "stream",
     "text": [
      "\n",
      "  0%|          | 0/486 [00:00<?, ?it/s]\u001b[A\n",
      "100%|██████████| 486/486 [1:11:58<00:00,  8.63s/it]\n"
     ]
    }
   ],
   "source": [
    "main_df = pd.DataFrame()\n",
    "for cur_player in tqdm.tqdm(player_ids.values):\n",
    "    cur_df = get_player_data(cur_player)\n",
    "    main_df = main_df.append(cur_df)"
   ]
  },
  {
   "cell_type": "code",
   "execution_count": 275,
   "metadata": {},
   "outputs": [],
   "source": [
    "df = pd.merge(main_df,plist.info()[['PERSON_ID','DISPLAY_FIRST_LAST']], how='left', on='PERSON_ID')"
   ]
  },
  {
   "cell_type": "code",
   "execution_count": 277,
   "metadata": {},
   "outputs": [],
   "source": [
    "df.to_csv('overall_df.csv')"
   ]
  },
  {
   "cell_type": "code",
   "execution_count": 278,
   "metadata": {},
   "outputs": [
    {
     "data": {
      "text/html": [
       "<div>\n",
       "<style>\n",
       "    .dataframe thead tr:only-child th {\n",
       "        text-align: right;\n",
       "    }\n",
       "\n",
       "    .dataframe thead th {\n",
       "        text-align: left;\n",
       "    }\n",
       "\n",
       "    .dataframe tbody tr th {\n",
       "        vertical-align: top;\n",
       "    }\n",
       "</style>\n",
       "<table border=\"1\" class=\"dataframe\">\n",
       "  <thead>\n",
       "    <tr style=\"text-align: right;\">\n",
       "      <th></th>\n",
       "      <th>GROUP_VALUE</th>\n",
       "      <th>FG_PCT</th>\n",
       "      <th>FG3_PCT</th>\n",
       "      <th>FT_PCT</th>\n",
       "      <th>OREB</th>\n",
       "      <th>DREB</th>\n",
       "      <th>REB</th>\n",
       "      <th>AST</th>\n",
       "      <th>TOV</th>\n",
       "      <th>STL</th>\n",
       "      <th>...</th>\n",
       "      <th>SC_FT_PCT</th>\n",
       "      <th>SC_OREB</th>\n",
       "      <th>SC_DREB</th>\n",
       "      <th>SC_REB</th>\n",
       "      <th>SC_AST</th>\n",
       "      <th>SC_TOV</th>\n",
       "      <th>SC_STL</th>\n",
       "      <th>SC_BLK</th>\n",
       "      <th>PERSON_ID</th>\n",
       "      <th>DISPLAY_FIRST_LAST</th>\n",
       "    </tr>\n",
       "  </thead>\n",
       "  <tbody>\n",
       "    <tr>\n",
       "      <th>0</th>\n",
       "      <td>2016-17</td>\n",
       "      <td>0.393000</td>\n",
       "      <td>0.381</td>\n",
       "      <td>0.898000</td>\n",
       "      <td>0.3</td>\n",
       "      <td>1.000000</td>\n",
       "      <td>1.300000</td>\n",
       "      <td>0.600000</td>\n",
       "      <td>0.500000</td>\n",
       "      <td>0.500000</td>\n",
       "      <td>...</td>\n",
       "      <td>0</td>\n",
       "      <td>0</td>\n",
       "      <td>0</td>\n",
       "      <td>0</td>\n",
       "      <td>0</td>\n",
       "      <td>0</td>\n",
       "      <td>0</td>\n",
       "      <td>0</td>\n",
       "      <td>203518</td>\n",
       "      <td>Alex Abrines</td>\n",
       "    </tr>\n",
       "    <tr>\n",
       "      <th>1</th>\n",
       "      <td>2012-13</td>\n",
       "      <td>0.560000</td>\n",
       "      <td>0.500</td>\n",
       "      <td>0.816000</td>\n",
       "      <td>1.0</td>\n",
       "      <td>1.600000</td>\n",
       "      <td>2.700000</td>\n",
       "      <td>0.400000</td>\n",
       "      <td>0.600000</td>\n",
       "      <td>0.400000</td>\n",
       "      <td>...</td>\n",
       "      <td>NaN</td>\n",
       "      <td>NaN</td>\n",
       "      <td>NaN</td>\n",
       "      <td>NaN</td>\n",
       "      <td>NaN</td>\n",
       "      <td>NaN</td>\n",
       "      <td>NaN</td>\n",
       "      <td>NaN</td>\n",
       "      <td>203112</td>\n",
       "      <td>Quincy Acy</td>\n",
       "    </tr>\n",
       "    <tr>\n",
       "      <th>2</th>\n",
       "      <td>2013-14</td>\n",
       "      <td>0.456333</td>\n",
       "      <td>0.289</td>\n",
       "      <td>0.650667</td>\n",
       "      <td>1.0</td>\n",
       "      <td>2.033333</td>\n",
       "      <td>3.033333</td>\n",
       "      <td>0.466667</td>\n",
       "      <td>0.433333</td>\n",
       "      <td>0.433333</td>\n",
       "      <td>...</td>\n",
       "      <td>NaN</td>\n",
       "      <td>NaN</td>\n",
       "      <td>NaN</td>\n",
       "      <td>NaN</td>\n",
       "      <td>NaN</td>\n",
       "      <td>NaN</td>\n",
       "      <td>NaN</td>\n",
       "      <td>NaN</td>\n",
       "      <td>203112</td>\n",
       "      <td>Quincy Acy</td>\n",
       "    </tr>\n",
       "    <tr>\n",
       "      <th>3</th>\n",
       "      <td>2014-15</td>\n",
       "      <td>0.459000</td>\n",
       "      <td>0.300</td>\n",
       "      <td>0.784000</td>\n",
       "      <td>1.2</td>\n",
       "      <td>3.300000</td>\n",
       "      <td>4.400000</td>\n",
       "      <td>1.000000</td>\n",
       "      <td>0.900000</td>\n",
       "      <td>0.400000</td>\n",
       "      <td>...</td>\n",
       "      <td>0</td>\n",
       "      <td>0</td>\n",
       "      <td>0.1</td>\n",
       "      <td>0.1</td>\n",
       "      <td>0.1</td>\n",
       "      <td>0</td>\n",
       "      <td>0</td>\n",
       "      <td>0</td>\n",
       "      <td>203112</td>\n",
       "      <td>Quincy Acy</td>\n",
       "    </tr>\n",
       "    <tr>\n",
       "      <th>4</th>\n",
       "      <td>2015-16</td>\n",
       "      <td>0.556000</td>\n",
       "      <td>0.388</td>\n",
       "      <td>0.735000</td>\n",
       "      <td>1.1</td>\n",
       "      <td>2.100000</td>\n",
       "      <td>3.200000</td>\n",
       "      <td>0.500000</td>\n",
       "      <td>0.500000</td>\n",
       "      <td>0.500000</td>\n",
       "      <td>...</td>\n",
       "      <td>0</td>\n",
       "      <td>0</td>\n",
       "      <td>0.1</td>\n",
       "      <td>0.1</td>\n",
       "      <td>0</td>\n",
       "      <td>0.1</td>\n",
       "      <td>0.1</td>\n",
       "      <td>0</td>\n",
       "      <td>203112</td>\n",
       "      <td>Quincy Acy</td>\n",
       "    </tr>\n",
       "  </tbody>\n",
       "</table>\n",
       "<p>5 rows × 43 columns</p>\n",
       "</div>"
      ],
      "text/plain": [
       "  GROUP_VALUE    FG_PCT  FG3_PCT    FT_PCT  OREB      DREB       REB  \\\n",
       "0     2016-17  0.393000    0.381  0.898000   0.3  1.000000  1.300000   \n",
       "1     2012-13  0.560000    0.500  0.816000   1.0  1.600000  2.700000   \n",
       "2     2013-14  0.456333    0.289  0.650667   1.0  2.033333  3.033333   \n",
       "3     2014-15  0.459000    0.300  0.784000   1.2  3.300000  4.400000   \n",
       "4     2015-16  0.556000    0.388  0.735000   1.1  2.100000  3.200000   \n",
       "\n",
       "        AST       TOV       STL         ...          SC_FT_PCT  SC_OREB  \\\n",
       "0  0.600000  0.500000  0.500000         ...                  0        0   \n",
       "1  0.400000  0.600000  0.400000         ...                NaN      NaN   \n",
       "2  0.466667  0.433333  0.433333         ...                NaN      NaN   \n",
       "3  1.000000  0.900000  0.400000         ...                  0        0   \n",
       "4  0.500000  0.500000  0.500000         ...                  0        0   \n",
       "\n",
       "   SC_DREB  SC_REB  SC_AST  SC_TOV  SC_STL  SC_BLK  PERSON_ID  \\\n",
       "0        0       0       0       0       0       0     203518   \n",
       "1      NaN     NaN     NaN     NaN     NaN     NaN     203112   \n",
       "2      NaN     NaN     NaN     NaN     NaN     NaN     203112   \n",
       "3      0.1     0.1     0.1       0       0       0     203112   \n",
       "4      0.1     0.1       0     0.1     0.1       0     203112   \n",
       "\n",
       "   DISPLAY_FIRST_LAST  \n",
       "0        Alex Abrines  \n",
       "1          Quincy Acy  \n",
       "2          Quincy Acy  \n",
       "3          Quincy Acy  \n",
       "4          Quincy Acy  \n",
       "\n",
       "[5 rows x 43 columns]"
      ]
     },
     "execution_count": 278,
     "metadata": {},
     "output_type": "execute_result"
    }
   ],
   "source": [
    "df.head()"
   ]
  },
  {
   "cell_type": "code",
   "execution_count": 301,
   "metadata": {},
   "outputs": [
    {
     "name": "stdout",
     "output_type": "stream",
     "text": [
      "Regular Field Goal Percentage mean: 0.43922959533607653\n",
      "Shot Clock Low Field Goal Percentage mean: 0.33002233677\n"
     ]
    }
   ],
   "source": [
    "print('Regular field goal percentage mean: ' + str(df[df['GROUP_VALUE'] == '2016-17']['FG_PCT'].mean()))\n",
    "print('Shot clock low field goal percentage mean: ' + str(df[df['GROUP_VALUE'] == '2016-17']['SC_FG_PCT'].mean()))\n",
    "      "
   ]
  },
  {
   "cell_type": "code",
   "execution_count": 302,
   "metadata": {},
   "outputs": [
    {
     "name": "stdout",
     "output_type": "stream",
     "text": [
      "Regular 3 point percentage mean: 0.276814986282579\n",
      "Shot clock low field goal percentage mean: 0.212512199313\n"
     ]
    }
   ],
   "source": [
    "print('Regular 3 point percentage mean: ' + str(df[df['GROUP_VALUE'] == '2016-17']['FG3_PCT'].mean()))\n",
    "print('Shot clock low field goal percentage mean: ' + str(df[df['GROUP_VALUE'] == '2016-17']['SC_FG3_PCT'].mean()))"
   ]
  },
  {
   "cell_type": "code",
   "execution_count": 303,
   "metadata": {},
   "outputs": [
    {
     "name": "stdout",
     "output_type": "stream",
     "text": [
      "Regular free throw percentage mean: 0.716347908093278\n",
      "Playoff free throw percentage mean: 0.625744186047\n",
      "4th Quarter free throw percentage mean: 0.6919106652949248\n"
     ]
    }
   ],
   "source": [
    "print('Regular free throw percentage mean: ' + str(df[df['GROUP_VALUE'] == '2016-17']['FT_PCT'].mean()))\n",
    "print('Playoff free throw percentage mean: ' + str(df[df['GROUP_VALUE'] == '2016-17']['PO_FT_PCT'].mean()))\n",
    "print('4th Quarter free throw percentage mean: ' + str(df[df['GROUP_VALUE'] == '2016-17']['4Q_FT_PCT'].mean()))"
   ]
  },
  {
   "cell_type": "code",
   "execution_count": 314,
   "metadata": {},
   "outputs": [
    {
     "data": {
      "text/plain": [
       "Index(['GROUP_VALUE', 'FG_PCT', 'FG3_PCT', 'FT_PCT', 'OREB', 'DREB', 'REB',\n",
       "       'AST', 'TOV', 'STL', 'BLK', '4Q_FG_PCT', '4Q_FG3_PCT', '4Q_FT_PCT',\n",
       "       '4Q_OREB', '4Q_DREB', '4Q_REB', '4Q_AST', '4Q_TOV', '4Q_STL', '4Q_BLK',\n",
       "       'PO_FG_PCT', 'PO_FG3_PCT', 'PO_FT_PCT', 'PO_OREB', 'PO_DREB', 'PO_REB',\n",
       "       'PO_AST', 'PO_TOV', 'PO_STL', 'PO_BLK', 'SC_FG_PCT', 'SC_FG3_PCT',\n",
       "       'SC_FT_PCT', 'SC_OREB', 'SC_DREB', 'SC_REB', 'SC_AST', 'SC_TOV',\n",
       "       'SC_STL', 'SC_BLK', 'PERSON_ID', 'DISPLAY_FIRST_LAST'],\n",
       "      dtype='object')"
      ]
     },
     "execution_count": 314,
     "metadata": {},
     "output_type": "execute_result"
    }
   ],
   "source": [
    "df[df['GROUP_VALUE'] == '2016-17'].columns"
   ]
  },
  {
   "cell_type": "code",
   "execution_count": 315,
   "metadata": {},
   "outputs": [
    {
     "data": {
      "text/plain": [
       "0.3913923182441697"
      ]
     },
     "execution_count": 315,
     "metadata": {},
     "output_type": "execute_result"
    }
   ],
   "source": [
    "df[df['GROUP_VALUE'] == '2016-17']['BLK'].mean()"
   ]
  },
  {
   "cell_type": "code",
   "execution_count": 316,
   "metadata": {},
   "outputs": [
    {
     "data": {
      "text/plain": [
       "0.38093023255813935"
      ]
     },
     "execution_count": 316,
     "metadata": {},
     "output_type": "execute_result"
    }
   ],
   "source": [
    "df[df['GROUP_VALUE'] == '2016-17']['PO_BLK'].mean()"
   ]
  },
  {
   "cell_type": "markdown",
   "metadata": {},
   "source": [
    "We clearly have a discrepency in statistics under specific conditions. Are these Significant!? RUN TEST. Can we determine which types of players are prone to make these bad judgements in crunch time? (Types of shots). How do we quantify clutchness and what other metrics will support the argument that one player is more clutch than another? (Look at average drop in performance compared to a specific player) "
   ]
  },
  {
   "cell_type": "code",
   "execution_count": null,
   "metadata": {
    "collapsed": true
   },
   "outputs": [],
   "source": []
  }
 ],
 "metadata": {
  "kernelspec": {
   "display_name": "Python 3",
   "language": "python",
   "name": "python3"
  },
  "language_info": {
   "codemirror_mode": {
    "name": "ipython",
    "version": 3
   },
   "file_extension": ".py",
   "mimetype": "text/x-python",
   "name": "python",
   "nbconvert_exporter": "python",
   "pygments_lexer": "ipython3",
   "version": "3.6.1"
  }
 },
 "nbformat": 4,
 "nbformat_minor": 2
}
