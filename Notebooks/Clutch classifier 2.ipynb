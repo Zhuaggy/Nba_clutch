{
 "cells": [
  {
   "cell_type": "code",
   "execution_count": 48,
   "metadata": {
    "collapsed": true
   },
   "outputs": [],
   "source": [
    "%matplotlib inline\n",
    "import nba_py as nba\n",
    "from nba_py import player\n",
    "import requests\n",
    "import pandas as pd\n",
    "import numpy as np\n",
    "import matplotlib.pyplot as plt\n",
    "import seaborn as sns\n",
    "import tqdm\n",
    "import math"
   ]
  },
  {
   "cell_type": "code",
   "execution_count": 2,
   "metadata": {
    "collapsed": true
   },
   "outputs": [],
   "source": [
    "df = pd.read_csv('all_players.csv')"
   ]
  },
  {
   "cell_type": "code",
   "execution_count": 3,
   "metadata": {},
   "outputs": [
    {
     "data": {
      "text/plain": [
       "<matplotlib.axes._subplots.AxesSubplot at 0x110f54710>"
      ]
     },
     "execution_count": 3,
     "metadata": {},
     "output_type": "execute_result"
    },
    {
     "data": {
      "image/png": "[encoded data removed]",
      "text/plain": [
       "<matplotlib.figure.Figure at 0x110f3efd0>"
      ]
     },
     "metadata": {},
     "output_type": "display_data"
    }
   ],
   "source": [
    "df.boxplot(['PO_FG_PCT','SC_FG_PCT','FG_PCT'])"
   ]
  },
  {
   "cell_type": "code",
   "execution_count": 12,
   "metadata": {},
   "outputs": [
    {
     "data": {
      "text/plain": [
       "<matplotlib.axes._subplots.AxesSubplot at 0x11b2bc6a0>"
      ]
     },
     "execution_count": 12,
     "metadata": {},
     "output_type": "execute_result"
    },
    {
     "data": {
      "image/png": "[encoded data removed]",
      "text/plain": [
       "<matplotlib.figure.Figure at 0x11a428f28>"
      ]
     },
     "metadata": {},
     "output_type": "display_data"
    }
   ],
   "source": [
    "cur_df = df[df['FG3_PCT'] != 0]\n",
    "cur_df = cur_df[cur_df['SC_FG3_PCT'] != 0]\n",
    "cur_df[cur_df['PO_FG3_PCT'] != 0].boxplot(['PO_FG3_PCT','SC_FG3_PCT','FG3_PCT'])"
   ]
  },
  {
   "cell_type": "code",
   "execution_count": 10,
   "metadata": {},
   "outputs": [
    {
     "data": {
      "text/plain": [
       "<matplotlib.axes._subplots.AxesSubplot at 0x11ac4a7f0>"
      ]
     },
     "execution_count": 10,
     "metadata": {},
     "output_type": "execute_result"
    },
    {
     "data": {
      "image/png": "[encoded data removed]",
      "text/plain": [
       "<matplotlib.figure.Figure at 0x11a8c6080>"
      ]
     },
     "metadata": {},
     "output_type": "display_data"
    }
   ],
   "source": [
    "df.boxplot(['FT_PCT','PO_FT_PCT','4Q_FT_PCT'])"
   ]
  },
  {
   "cell_type": "code",
   "execution_count": 4,
   "metadata": {
    "collapsed": true
   },
   "outputs": [],
   "source": [
    "df['SC_FG_PCT_DIFF'] = df['FG_PCT'] - df['SC_FG_PCT']\n",
    "df['SC_FG3_PCT_DIFF'] = df['FG3_PCT'] - df['SC_FG3_PCT']\n",
    "df['PO_FT_PCT_DIFF'] = df['FT_PCT'] - df['PO_FT_PCT']\n",
    "df['4Q_FT_PCT_DIFF'] = df['FT_PCT'] - df['4Q_FT_PCT']\n",
    "df['SEASON_ID'] = df['GROUP_VALUE']"
   ]
  },
  {
   "cell_type": "code",
   "execution_count": 26,
   "metadata": {
    "collapsed": true
   },
   "outputs": [],
   "source": [
    "df2 = df[['SEASON_ID', 'PERSON_ID', 'SC_FG_PCT_DIFF', 'SC_FG3_PCT_DIFF',\n",
    "       'PO_FT_PCT_DIFF', '4Q_FT_PCT_DIFF','FG_PCT', 'FG3_PCT', 'FT_PCT', 'OREB',\n",
    "       'DREB', 'REB', 'AST', 'TOV', 'STL', 'BLK']]"
   ]
  },
  {
   "cell_type": "code",
   "execution_count": 27,
   "metadata": {
    "collapsed": true
   },
   "outputs": [],
   "source": [
    "def get_reg_season_totals(p_id):\n",
    "    rt_df1 = player.PlayerCareer(p_id, per_mode = 'PerGame').regular_season_totals()[['PLAYER_ID','SEASON_ID',\n",
    "                                                                          'PLAYER_AGE','MIN']]\n",
    "    if rt_df1.empty:\n",
    "        return None\n",
    "    else:\n",
    "        rt_df1 = rt_df1.groupby(['PLAYER_ID','SEASON_ID']).mean()\n",
    "        rt_df1 = rt_df1.reset_index()\n",
    "        rt_df2 = player.PlayerCareer(p_id, per_mode = 'PerGame').regular_season_totals()[['PLAYER_ID','SEASON_ID',\n",
    "                                                                              'GP','GS','TEAM_ID']]\n",
    "        rt_df2 = rt_df2[rt_df2['TEAM_ID'] != 0]\n",
    "        rt_df2 = rt_df2[['PLAYER_ID','SEASON_ID','GP','GS']]\n",
    "        rt_df2 = rt_df2.groupby(['PLAYER_ID','SEASON_ID']).sum()\n",
    "        rt_df2 = rt_df2.reset_index()\n",
    "\n",
    "        rt_df = pd.merge(rt_df1, rt_df2, how = 'left', on = ['PLAYER_ID','SEASON_ID'])\n",
    "        return (rt_df)"
   ]
  },
  {
   "cell_type": "code",
   "execution_count": 28,
   "metadata": {},
   "outputs": [
    {
     "name": "stderr",
     "output_type": "stream",
     "text": [
      "100%|██████████| 4232/4232 [1:11:51<00:00,  1.05it/s]\n"
     ]
    }
   ],
   "source": [
    "plist = player.PlayerList(league_id='00', only_current = '0')\n",
    "player_ids = plist.info()['PERSON_ID']\n",
    "main_df = pd.DataFrame()\n",
    "for cur_player in tqdm.tqdm(player_ids.values):\n",
    "    cur_df = get_reg_season_totals(cur_player)\n",
    "    if cur_df is not None:\n",
    "        main_df = main_df.append(cur_df)"
   ]
  },
  {
   "cell_type": "code",
   "execution_count": 34,
   "metadata": {
    "collapsed": true
   },
   "outputs": [],
   "source": [
    "main_df.columns = ['GP','GS','AVG_MIN','AGE','PERSON_ID','SEASON_ID']\n",
    "comb_df = pd.merge(df2,main_df, how = 'left', on = ['PERSON_ID','SEASON_ID'])\n"
   ]
  },
  {
   "cell_type": "code",
   "execution_count": 35,
   "metadata": {
    "collapsed": true
   },
   "outputs": [],
   "source": [
    "comb_df.to_csv('july18_data.csv')"
   ]
  },
  {
   "cell_type": "code",
   "execution_count": 31,
   "metadata": {
    "collapsed": true
   },
   "outputs": [],
   "source": [
    "from sklearn.pipeline import Pipeline\n",
    "from sklearn.model_selection import train_test_split\n",
    "from sklearn.model_selection import cross_val_score\n",
    "from sklearn.ensemble import RandomForestRegressor\n",
    "from sklearn.ensemble import RandomForestClassifier"
   ]
  },
  {
   "cell_type": "markdown",
   "metadata": {},
   "source": [
    "TRY ANOTHER MODEL YEEEHHYYY!"
   ]
  },
  {
   "cell_type": "code",
   "execution_count": 46,
   "metadata": {
    "collapsed": true
   },
   "outputs": [],
   "source": [
    "total_df = comb_df[['SEASON_ID', 'PERSON_ID', 'FG_PCT',\n",
    "       'FG3_PCT', 'FT_PCT', 'OREB', 'DREB', 'REB', 'AST', 'TOV', 'STL', 'BLK',\n",
    "       'AGE', 'GP', 'GS', 'AVG_MIN','SC_FG_PCT_DIFF']]\n",
    "total_df = total_df.dropna()"
   ]
  },
  {
   "cell_type": "code",
   "execution_count": 49,
   "metadata": {
    "collapsed": true
   },
   "outputs": [],
   "source": [
    "target = total_df['SC_FG_PCT_DIFF']\n",
    "\n",
    "features = total_df[['PERSON_ID', 'FG_PCT',\n",
    "       'FG3_PCT', 'FT_PCT', 'OREB', 'DREB', 'REB', 'AST', 'TOV', 'STL', 'BLK',\n",
    "       'AGE', 'GP', 'GS', 'AVG_MIN']]\n",
    "X_train, X_test, y_train, y_test = train_test_split(features, target, test_size=0.33, random_state=4)"
   ]
  },
  {
   "cell_type": "code",
   "execution_count": 50,
   "metadata": {},
   "outputs": [
    {
     "data": {
      "text/plain": [
       "RandomForestRegressor(bootstrap=True, criterion='mse', max_depth=None,\n",
       "           max_features='auto', max_leaf_nodes=None,\n",
       "           min_impurity_split=1e-07, min_samples_leaf=1,\n",
       "           min_samples_split=2, min_weight_fraction_leaf=0.0,\n",
       "           n_estimators=100, n_jobs=1, oob_score=False, random_state=0,\n",
       "           verbose=0, warm_start=False)"
      ]
     },
     "execution_count": 50,
     "metadata": {},
     "output_type": "execute_result"
    }
   ],
   "source": [
    "estimator = RandomForestRegressor(random_state=0, n_estimators=100)\n",
    "estimator.fit(X_train, y_train)"
   ]
  },
  {
   "cell_type": "code",
   "execution_count": 51,
   "metadata": {
    "collapsed": true
   },
   "outputs": [],
   "source": [
    "df_results = pd.DataFrame()\n",
    "df_results['prediction'] = estimator.predict(X_test)\n",
    "df_results['actual'] = y_test.values"
   ]
  },
  {
   "cell_type": "code",
   "execution_count": 63,
   "metadata": {
    "collapsed": true
   },
   "outputs": [],
   "source": [
    "def to_category_1(x):\n",
    "    if x <= 0:\n",
    "        return (1)\n",
    "    else:\n",
    "        return (0)\n",
    "\n",
    "def to_category_2(x):\n",
    "    if x <= 0.1:\n",
    "        return (1)\n",
    "    else:\n",
    "        return (0)"
   ]
  },
  {
   "cell_type": "code",
   "execution_count": 64,
   "metadata": {
    "collapsed": true
   },
   "outputs": [],
   "source": [
    "df_results['abs_error'] = abs(df_results['actual'] - df_results['prediction'])\n",
    "df_results['pct_error'] = df_results['abs_error']/df_results['actual']\n",
    "df_results['prediction_cat'] = df_results['prediction'].apply(to_category_2)\n",
    "df_results['actual_cat'] = df_results['actual'].apply(to_category_1)\n",
    "df_results['cat_error'] = abs(df_results['actual_cat'] - df_results['prediction_cat'])\n",
    "df_results['non_abs_cat_error'] = df_results['actual_cat'] - df_results['prediction_cat']"
   ]
  },
  {
   "cell_type": "code",
   "execution_count": 65,
   "metadata": {},
   "outputs": [
    {
     "name": "stdout",
     "output_type": "stream",
     "text": [
      "abs cat error: 0.47216494845360824\n",
      "non abs cat error: -0.27835051546391754\n",
      "number of actual clutch correct: 0.4845360824742268\n",
      "number of chokers correct: 0.4690721649484536\n",
      "number of actual clutch: 97\n",
      "number of predicted clutch: 232\n"
     ]
    }
   ],
   "source": [
    "print('abs cat error: ' + str(df_results['cat_error'].mean()))\n",
    "print('non abs cat error: ' + str(df_results['non_abs_cat_error'].mean()))\n",
    "print('number of actual clutch correct: ' + str(df_results[df_results['actual_cat'] == 1]['cat_error'].mean()))\n",
    "print('number of chokers correct: ' + str(df_results[df_results['actual_cat'] == 0]['cat_error'].mean()))\n",
    "print('number of actual clutch: ' + str(df_results['actual_cat'].sum()))\n",
    "print('number of predicted clutch: ' + str(df_results['prediction_cat'].sum()))"
   ]
  },
  {
   "cell_type": "code",
   "execution_count": 61,
   "metadata": {},
   "outputs": [
    {
     "data": {
      "text/plain": [
       "<matplotlib.axes._subplots.AxesSubplot at 0x11aec0d30>"
      ]
     },
     "execution_count": 61,
     "metadata": {},
     "output_type": "execute_result"
    },
    {
     "data": {
      "image/png": "[encoded data removed]",
      "text/plain": [
       "<matplotlib.figure.Figure at 0x11aeba390>"
      ]
     },
     "metadata": {},
     "output_type": "display_data"
    }
   ],
   "source": [
    "df_results['actual'].plot(kind = 'hist', bins = 20)"
   ]
  },
  {
   "cell_type": "code",
   "execution_count": 62,
   "metadata": {},
   "outputs": [
    {
     "data": {
      "text/plain": [
       "<matplotlib.axes._subplots.AxesSubplot at 0x11ae4dba8>"
      ]
     },
     "execution_count": 62,
     "metadata": {},
     "output_type": "execute_result"
    },
    {
     "data": {
      "image/png": "[encoded data removed]",
      "text/plain": [
       "<matplotlib.figure.Figure at 0x116f79748>"
      ]
     },
     "metadata": {},
     "output_type": "display_data"
    }
   ],
   "source": [
    "df_results['prediction'].plot(kind = 'hist', bins = 20)"
   ]
  },
  {
   "cell_type": "markdown",
   "metadata": {},
   "source": [
    "JULY 18"
   ]
  },
  {
   "cell_type": "code",
   "execution_count": 14,
   "metadata": {},
   "outputs": [
    {
     "data": {
      "text/plain": [
       "<matplotlib.axes._subplots.AxesSubplot at 0x115397f60>"
      ]
     },
     "execution_count": 14,
     "metadata": {},
     "output_type": "execute_result"
    },
    {
     "data": {
      "image/png": "[encoded data removed]",
      "text/plain": [
       "<matplotlib.figure.Figure at 0x1153d7048>"
      ]
     },
     "metadata": {},
     "output_type": "display_data"
    }
   ],
   "source": [
    "df['SC_FG_PCT_DIFF'].plot(kind = 'hist', bins = 60)"
   ]
  },
  {
   "cell_type": "code",
   "execution_count": 16,
   "metadata": {},
   "outputs": [
    {
     "data": {
      "text/plain": [
       "<matplotlib.axes._subplots.AxesSubplot at 0x115857e80>"
      ]
     },
     "execution_count": 16,
     "metadata": {},
     "output_type": "execute_result"
    },
    {
     "data": {
      "image/png": "[encoded data removed]",
      "text/plain": [
       "<matplotlib.figure.Figure at 0x11527e588>"
      ]
     },
     "metadata": {},
     "output_type": "display_data"
    }
   ],
   "source": [
    "df[df['SC_FG3_PCT_DIFF'] != 0]['SC_FG3_PCT_DIFF'].plot(kind = 'hist', bins = 60)"
   ]
  },
  {
   "cell_type": "code",
   "execution_count": 19,
   "metadata": {},
   "outputs": [
    {
     "data": {
      "text/plain": [
       "<matplotlib.axes._subplots.AxesSubplot at 0x1165b9c88>"
      ]
     },
     "execution_count": 19,
     "metadata": {},
     "output_type": "execute_result"
    },
    {
     "data": {
      "image/png": "[encoded data removed]",
      "text/plain": [
       "<matplotlib.figure.Figure at 0x1156ce7b8>"
      ]
     },
     "metadata": {},
     "output_type": "display_data"
    }
   ],
   "source": [
    "df['4Q_FT_PCT_DIFF'].plot(kind = 'hist', bins = 60)"
   ]
  },
  {
   "cell_type": "code",
   "execution_count": 18,
   "metadata": {},
   "outputs": [
    {
     "data": {
      "text/plain": [
       "<matplotlib.axes._subplots.AxesSubplot at 0x1163372e8>"
      ]
     },
     "execution_count": 18,
     "metadata": {},
     "output_type": "execute_result"
    },
    {
     "data": {
      "image/png": "[encoded data removed]",
      "text/plain": [
       "<matplotlib.figure.Figure at 0x11527e390>"
      ]
     },
     "metadata": {},
     "output_type": "display_data"
    }
   ],
   "source": [
    "df['PO_FT_PCT_DIFF'].plot(kind = 'hist', bins = 60)"
   ]
  },
  {
   "cell_type": "code",
   "execution_count": 23,
   "metadata": {},
   "outputs": [
    {
     "data": {
      "text/plain": [
       "<matplotlib.axes._subplots.AxesSubplot at 0x116a5fdd8>"
      ]
     },
     "execution_count": 23,
     "metadata": {},
     "output_type": "execute_result"
    },
    {
     "data": {
      "image/png": "[encoded data removed]",
      "text/plain": [
       "<matplotlib.figure.Figure at 0x1158b9668>"
      ]
     },
     "metadata": {},
     "output_type": "display_data"
    }
   ],
   "source": [
    "df[df['PO_FT_PCT_DIFF'] > 0.5]['PO_FT_PCT_DIFF'].plot(kind = 'hist', bins = 60)"
   ]
  },
  {
   "cell_type": "code",
   "execution_count": 25,
   "metadata": {},
   "outputs": [
    {
     "data": {
      "text/plain": [
       "Index(['GROUP_VALUE', 'FG_PCT', 'FG3_PCT', 'FT_PCT', 'OREB', 'DREB', 'REB',\n",
       "       'AST', 'TOV', 'STL', 'BLK', '4Q_FG_PCT', '4Q_FG3_PCT', '4Q_FT_PCT',\n",
       "       '4Q_OREB', '4Q_DREB', '4Q_REB', '4Q_AST', '4Q_TOV', '4Q_STL', '4Q_BLK',\n",
       "       'PO_FG_PCT', 'PO_FG3_PCT', 'PO_FT_PCT', 'PO_OREB', 'PO_DREB', 'PO_REB',\n",
       "       'PO_AST', 'PO_TOV', 'PO_STL', 'PO_BLK', 'SC_FG_PCT', 'SC_FG3_PCT',\n",
       "       'SC_FT_PCT', 'SC_OREB', 'SC_DREB', 'SC_REB', 'SC_AST', 'SC_TOV',\n",
       "       'SC_STL', 'SC_BLK', 'PERSON_ID', 'SC_FG_PCT_DIFF', 'SC_FG3_PCT_DIFF',\n",
       "       'PO_FT_PCT_DIFF', '4Q_FT_PCT_DIFF', 'SEASON_ID'],\n",
       "      dtype='object')"
      ]
     },
     "execution_count": 25,
     "metadata": {},
     "output_type": "execute_result"
    }
   ],
   "source": [
    "df[df['PO_FT_PCT_DIFF'] > 0.5].columns"
   ]
  },
  {
   "cell_type": "code",
   "execution_count": null,
   "metadata": {
    "collapsed": true
   },
   "outputs": [],
   "source": []
  },
  {
   "cell_type": "code",
   "execution_count": 37,
   "metadata": {},
   "outputs": [
    {
     "data": {
      "text/plain": [
       "Index(['GROUP_VALUE', 'FG_PCT', 'FG3_PCT', 'FT_PCT', 'OREB', 'DREB', 'REB',\n",
       "       'AST', 'TOV', 'STL', 'BLK', '4Q_FG_PCT', '4Q_FG3_PCT', '4Q_FT_PCT',\n",
       "       '4Q_OREB', '4Q_DREB', '4Q_REB', '4Q_AST', '4Q_TOV', '4Q_STL', '4Q_BLK',\n",
       "       'PO_FG_PCT', 'PO_FG3_PCT', 'PO_FT_PCT', 'PO_OREB', 'PO_DREB', 'PO_REB',\n",
       "       'PO_AST', 'PO_TOV', 'PO_STL', 'PO_BLK', 'SC_FG_PCT', 'SC_FG3_PCT',\n",
       "       'SC_FT_PCT', 'SC_OREB', 'SC_DREB', 'SC_REB', 'SC_AST', 'SC_TOV',\n",
       "       'SC_STL', 'SC_BLK', 'PERSON_ID', 'SC_FG_PCT_DIFF', 'SC_FG3_PCT_DIFF',\n",
       "       'PO_FT_PCT_DIFF', '4Q_FT_PCT_DIFF', 'SEASON_ID', 'GP', 'GS', 'AVG_MIN',\n",
       "       'AGE'],\n",
       "      dtype='object')"
      ]
     },
     "execution_count": 37,
     "metadata": {},
     "output_type": "execute_result"
    }
   ],
   "source": [
    "comb_df.columns"
   ]
  },
  {
   "cell_type": "code",
   "execution_count": 47,
   "metadata": {},
   "outputs": [
    {
     "data": {
      "text/plain": [
       "<matplotlib.axes._subplots.AxesSubplot at 0x1189d0668>"
      ]
     },
     "execution_count": 47,
     "metadata": {},
     "output_type": "execute_result"
    },
    {
     "data": {
      "image/png": "[encoded data removed]",
      "text/plain": [
       "<matplotlib.figure.Figure at 0x118962f28>"
      ]
     },
     "metadata": {},
     "output_type": "display_data"
    }
   ],
   "source": [
    "comb_df.plot(kind = 'scatter', x = 'AGE', y = 'GP')"
   ]
  },
  {
   "cell_type": "code",
   "execution_count": 106,
   "metadata": {},
   "outputs": [
    {
     "data": {
      "text/plain": [
       "611    1713\n",
       "Name: PERSON_ID, dtype: int64"
      ]
     },
     "execution_count": 106,
     "metadata": {},
     "output_type": "execute_result"
    }
   ],
   "source": [
    "player.get_player('Vince', 'Carter')"
   ]
  },
  {
   "cell_type": "code",
   "execution_count": 111,
   "metadata": {},
   "outputs": [
    {
     "data": {
      "text/html": [
       "<div>\n",
       "<style>\n",
       "    .dataframe thead tr:only-child th {\n",
       "        text-align: right;\n",
       "    }\n",
       "\n",
       "    .dataframe thead th {\n",
       "        text-align: left;\n",
       "    }\n",
       "\n",
       "    .dataframe tbody tr th {\n",
       "        vertical-align: top;\n",
       "    }\n",
       "</style>\n",
       "<table border=\"1\" class=\"dataframe\">\n",
       "  <thead>\n",
       "    <tr style=\"text-align: right;\">\n",
       "      <th></th>\n",
       "      <th>GROUP_SET</th>\n",
       "      <th>GROUP_VALUE</th>\n",
       "      <th>FGM</th>\n",
       "      <th>FGA</th>\n",
       "      <th>FG_PCT</th>\n",
       "      <th>FG3M</th>\n",
       "      <th>FG3A</th>\n",
       "      <th>FG3_PCT</th>\n",
       "      <th>EFG_PCT</th>\n",
       "      <th>BLKA</th>\n",
       "      <th>...</th>\n",
       "      <th>EFG_PCT_RANK</th>\n",
       "      <th>BLKA_RANK</th>\n",
       "      <th>PCT_AST_2PM_RANK</th>\n",
       "      <th>PCT_UAST_2PM_RANK</th>\n",
       "      <th>PCT_AST_3PM_RANK</th>\n",
       "      <th>PCT_UAST_3PM_RANK</th>\n",
       "      <th>PCT_AST_FGM_RANK</th>\n",
       "      <th>PCT_UAST_FGM_RANK</th>\n",
       "      <th>CFID</th>\n",
       "      <th>CFPARAMS</th>\n",
       "    </tr>\n",
       "  </thead>\n",
       "  <tbody>\n",
       "    <tr>\n",
       "      <th>0</th>\n",
       "      <td>Shot Area</td>\n",
       "      <td>Restricted Area</td>\n",
       "      <td>138</td>\n",
       "      <td>231</td>\n",
       "      <td>0.597</td>\n",
       "      <td>0</td>\n",
       "      <td>0</td>\n",
       "      <td>0.000</td>\n",
       "      <td>0.597</td>\n",
       "      <td>23</td>\n",
       "      <td>...</td>\n",
       "      <td>2</td>\n",
       "      <td>7</td>\n",
       "      <td>2</td>\n",
       "      <td>2</td>\n",
       "      <td>4</td>\n",
       "      <td>3</td>\n",
       "      <td>4</td>\n",
       "      <td>3</td>\n",
       "      <td>49</td>\n",
       "      <td>Restricted Area</td>\n",
       "    </tr>\n",
       "    <tr>\n",
       "      <th>1</th>\n",
       "      <td>Shot Area</td>\n",
       "      <td>In The Paint (Non-RA)</td>\n",
       "      <td>63</td>\n",
       "      <td>135</td>\n",
       "      <td>0.467</td>\n",
       "      <td>0</td>\n",
       "      <td>0</td>\n",
       "      <td>0.000</td>\n",
       "      <td>0.467</td>\n",
       "      <td>8</td>\n",
       "      <td>...</td>\n",
       "      <td>3</td>\n",
       "      <td>5</td>\n",
       "      <td>3</td>\n",
       "      <td>1</td>\n",
       "      <td>4</td>\n",
       "      <td>3</td>\n",
       "      <td>6</td>\n",
       "      <td>1</td>\n",
       "      <td>49</td>\n",
       "      <td>In The Paint (Non-RA)</td>\n",
       "    </tr>\n",
       "    <tr>\n",
       "      <th>2</th>\n",
       "      <td>Shot Area</td>\n",
       "      <td>Mid-Range</td>\n",
       "      <td>125</td>\n",
       "      <td>334</td>\n",
       "      <td>0.374</td>\n",
       "      <td>0</td>\n",
       "      <td>0</td>\n",
       "      <td>0.000</td>\n",
       "      <td>0.374</td>\n",
       "      <td>9</td>\n",
       "      <td>...</td>\n",
       "      <td>6</td>\n",
       "      <td>6</td>\n",
       "      <td>1</td>\n",
       "      <td>3</td>\n",
       "      <td>4</td>\n",
       "      <td>3</td>\n",
       "      <td>3</td>\n",
       "      <td>4</td>\n",
       "      <td>49</td>\n",
       "      <td>Mid-Range</td>\n",
       "    </tr>\n",
       "    <tr>\n",
       "      <th>3</th>\n",
       "      <td>Shot Area</td>\n",
       "      <td>Left Corner 3</td>\n",
       "      <td>2</td>\n",
       "      <td>7</td>\n",
       "      <td>0.286</td>\n",
       "      <td>2</td>\n",
       "      <td>7</td>\n",
       "      <td>0.286</td>\n",
       "      <td>0.429</td>\n",
       "      <td>0</td>\n",
       "      <td>...</td>\n",
       "      <td>5</td>\n",
       "      <td>1</td>\n",
       "      <td>4</td>\n",
       "      <td>4</td>\n",
       "      <td>3</td>\n",
       "      <td>1</td>\n",
       "      <td>5</td>\n",
       "      <td>2</td>\n",
       "      <td>49</td>\n",
       "      <td>Left Corner 3</td>\n",
       "    </tr>\n",
       "    <tr>\n",
       "      <th>4</th>\n",
       "      <td>Shot Area</td>\n",
       "      <td>Right Corner 3</td>\n",
       "      <td>1</td>\n",
       "      <td>2</td>\n",
       "      <td>0.500</td>\n",
       "      <td>1</td>\n",
       "      <td>2</td>\n",
       "      <td>0.500</td>\n",
       "      <td>0.750</td>\n",
       "      <td>0</td>\n",
       "      <td>...</td>\n",
       "      <td>1</td>\n",
       "      <td>1</td>\n",
       "      <td>4</td>\n",
       "      <td>4</td>\n",
       "      <td>1</td>\n",
       "      <td>3</td>\n",
       "      <td>1</td>\n",
       "      <td>6</td>\n",
       "      <td>49</td>\n",
       "      <td>Right Corner 3</td>\n",
       "    </tr>\n",
       "    <tr>\n",
       "      <th>5</th>\n",
       "      <td>Shot Area</td>\n",
       "      <td>Above the Break 3</td>\n",
       "      <td>16</td>\n",
       "      <td>55</td>\n",
       "      <td>0.291</td>\n",
       "      <td>16</td>\n",
       "      <td>55</td>\n",
       "      <td>0.291</td>\n",
       "      <td>0.436</td>\n",
       "      <td>0</td>\n",
       "      <td>...</td>\n",
       "      <td>4</td>\n",
       "      <td>1</td>\n",
       "      <td>4</td>\n",
       "      <td>4</td>\n",
       "      <td>2</td>\n",
       "      <td>2</td>\n",
       "      <td>2</td>\n",
       "      <td>5</td>\n",
       "      <td>49</td>\n",
       "      <td>Above the Break 3</td>\n",
       "    </tr>\n",
       "    <tr>\n",
       "      <th>6</th>\n",
       "      <td>Shot Area</td>\n",
       "      <td>Backcourt</td>\n",
       "      <td>0</td>\n",
       "      <td>2</td>\n",
       "      <td>0.000</td>\n",
       "      <td>0</td>\n",
       "      <td>2</td>\n",
       "      <td>0.000</td>\n",
       "      <td>0.000</td>\n",
       "      <td>0</td>\n",
       "      <td>...</td>\n",
       "      <td>7</td>\n",
       "      <td>1</td>\n",
       "      <td>4</td>\n",
       "      <td>4</td>\n",
       "      <td>4</td>\n",
       "      <td>3</td>\n",
       "      <td>7</td>\n",
       "      <td>6</td>\n",
       "      <td>49</td>\n",
       "      <td>Backcourt</td>\n",
       "    </tr>\n",
       "  </tbody>\n",
       "</table>\n",
       "<p>7 rows × 32 columns</p>\n",
       "</div>"
      ],
      "text/plain": [
       "   GROUP_SET            GROUP_VALUE  FGM  FGA  FG_PCT  FG3M  FG3A  FG3_PCT  \\\n",
       "0  Shot Area        Restricted Area  138  231   0.597     0     0    0.000   \n",
       "1  Shot Area  In The Paint (Non-RA)   63  135   0.467     0     0    0.000   \n",
       "2  Shot Area              Mid-Range  125  334   0.374     0     0    0.000   \n",
       "3  Shot Area          Left Corner 3    2    7   0.286     2     7    0.286   \n",
       "4  Shot Area         Right Corner 3    1    2   0.500     1     2    0.500   \n",
       "5  Shot Area      Above the Break 3   16   55   0.291    16    55    0.291   \n",
       "6  Shot Area              Backcourt    0    2   0.000     0     2    0.000   \n",
       "\n",
       "   EFG_PCT  BLKA          ...            EFG_PCT_RANK  BLKA_RANK  \\\n",
       "0    0.597    23          ...                       2          7   \n",
       "1    0.467     8          ...                       3          5   \n",
       "2    0.374     9          ...                       6          6   \n",
       "3    0.429     0          ...                       5          1   \n",
       "4    0.750     0          ...                       1          1   \n",
       "5    0.436     0          ...                       4          1   \n",
       "6    0.000     0          ...                       7          1   \n",
       "\n",
       "   PCT_AST_2PM_RANK  PCT_UAST_2PM_RANK  PCT_AST_3PM_RANK  PCT_UAST_3PM_RANK  \\\n",
       "0                 2                  2                 4                  3   \n",
       "1                 3                  1                 4                  3   \n",
       "2                 1                  3                 4                  3   \n",
       "3                 4                  4                 3                  1   \n",
       "4                 4                  4                 1                  3   \n",
       "5                 4                  4                 2                  2   \n",
       "6                 4                  4                 4                  3   \n",
       "\n",
       "   PCT_AST_FGM_RANK  PCT_UAST_FGM_RANK  CFID               CFPARAMS  \n",
       "0                 4                  3    49        Restricted Area  \n",
       "1                 6                  1    49  In The Paint (Non-RA)  \n",
       "2                 3                  4    49              Mid-Range  \n",
       "3                 5                  2    49          Left Corner 3  \n",
       "4                 1                  6    49         Right Corner 3  \n",
       "5                 2                  5    49      Above the Break 3  \n",
       "6                 7                  6    49              Backcourt  \n",
       "\n",
       "[7 rows x 32 columns]"
      ]
     },
     "execution_count": 111,
     "metadata": {},
     "output_type": "execute_result"
    }
   ],
   "source": [
    "player.PlayerShootingSplits(1713, season='1998-99').shot_areas()"
   ]
  },
  {
   "cell_type": "code",
   "execution_count": null,
   "metadata": {
    "collapsed": true
   },
   "outputs": [],
   "source": [
    "#1998-99 -> 2016-17\n",
    "sa_years = ['1998-99','1999-00','2000-01','2001-02','2002-03','2003-04','2004-05','2005-06','2006-07',\n",
    "           '2007-08','2008-09','2009-10','2010-11','2011-12','2012-13','2013-14','2014-15','2015-16','2016-17']\n",
    "temp_list = ['RA_FGA','RA_FG_PCT','P_FGA','P_FG_PCT','MR_FGA','MR_FG_PCT','LC_FGA','LC_FG_PCT','RC_FGA','RC_FG_PCT',\n",
    "            'ATB_FGA','ATB_FG_PCT','BC_FGA','BC_FG_PCT']\n",
    "for year in sa_years:\n",
    "    cur_df = comb_df[comb_df['GROUP_VALUE'] == year]\n",
    "    for pid in cur_df['PERSON_ID'].unique():\n",
    "        pss = player.PlayerShootingSplits(pid, season=year).shot_areas()\n",
    "        cur_list = []\n",
    "        for i in range(7)\n",
    "            cur_list.append(pss.iloc[i][3])\n",
    "            cur_list.append(pss.iloc[i][4])\n",
    "        temp_list.append(cur_list)"
   ]
  },
  {
   "cell_type": "code",
   "execution_count": 113,
   "metadata": {
    "collapsed": true
   },
   "outputs": [],
   "source": [
    "a = player.PlayerShootingSplits(1713, season='1998-99').shot_areas()"
   ]
  },
  {
   "cell_type": "code",
   "execution_count": 115,
   "metadata": {},
   "outputs": [
    {
     "data": {
      "text/plain": [
       "0.0"
      ]
     },
     "execution_count": 115,
     "metadata": {},
     "output_type": "execute_result"
    }
   ],
   "source": [
    "a.iloc[6][4]"
   ]
  },
  {
   "cell_type": "code",
   "execution_count": 117,
   "metadata": {},
   "outputs": [
    {
     "name": "stdout",
     "output_type": "stream",
     "text": [
      "0\n",
      "1\n",
      "2\n",
      "3\n",
      "4\n",
      "5\n",
      "6\n"
     ]
    }
   ],
   "source": [
    "for i in range(7):\n",
    "    print (i)"
   ]
  },
  {
   "cell_type": "code",
   "execution_count": null,
   "metadata": {
    "collapsed": true
   },
   "outputs": [],
   "source": []
  },
  {
   "cell_type": "code",
   "execution_count": null,
   "metadata": {
    "collapsed": true
   },
   "outputs": [],
   "source": []
  },
  {
   "cell_type": "code",
   "execution_count": 112,
   "metadata": {},
   "outputs": [
    {
     "data": {
      "text/html": [
       "<div>\n",
       "<style>\n",
       "    .dataframe thead tr:only-child th {\n",
       "        text-align: right;\n",
       "    }\n",
       "\n",
       "    .dataframe thead th {\n",
       "        text-align: left;\n",
       "    }\n",
       "\n",
       "    .dataframe tbody tr th {\n",
       "        vertical-align: top;\n",
       "    }\n",
       "</style>\n",
       "<table border=\"1\" class=\"dataframe\">\n",
       "  <thead>\n",
       "    <tr style=\"text-align: right;\">\n",
       "      <th></th>\n",
       "      <th>GROUP_VALUE</th>\n",
       "      <th>FG_PCT</th>\n",
       "      <th>FG3_PCT</th>\n",
       "      <th>FT_PCT</th>\n",
       "      <th>OREB</th>\n",
       "      <th>DREB</th>\n",
       "      <th>REB</th>\n",
       "      <th>AST</th>\n",
       "      <th>TOV</th>\n",
       "      <th>STL</th>\n",
       "      <th>...</th>\n",
       "      <th>PERSON_ID</th>\n",
       "      <th>SC_FG_PCT_DIFF</th>\n",
       "      <th>SC_FG3_PCT_DIFF</th>\n",
       "      <th>PO_FT_PCT_DIFF</th>\n",
       "      <th>4Q_FT_PCT_DIFF</th>\n",
       "      <th>SEASON_ID</th>\n",
       "      <th>GP</th>\n",
       "      <th>GS</th>\n",
       "      <th>AVG_MIN</th>\n",
       "      <th>AGE</th>\n",
       "    </tr>\n",
       "  </thead>\n",
       "  <tbody>\n",
       "    <tr>\n",
       "      <th>0</th>\n",
       "      <td>1996-97</td>\n",
       "      <td>0.445</td>\n",
       "      <td>0.382</td>\n",
       "      <td>0.846</td>\n",
       "      <td>0.2</td>\n",
       "      <td>1.4</td>\n",
       "      <td>1.6</td>\n",
       "      <td>2.5</td>\n",
       "      <td>1.6</td>\n",
       "      <td>0.7</td>\n",
       "      <td>...</td>\n",
       "      <td>51</td>\n",
       "      <td>NaN</td>\n",
       "      <td>NaN</td>\n",
       "      <td>NaN</td>\n",
       "      <td>0.059</td>\n",
       "      <td>1996-97</td>\n",
       "      <td>75</td>\n",
       "      <td>51.0</td>\n",
       "      <td>28.4</td>\n",
       "      <td>28.0</td>\n",
       "    </tr>\n",
       "    <tr>\n",
       "      <th>1</th>\n",
       "      <td>1997-98</td>\n",
       "      <td>0.377</td>\n",
       "      <td>0.161</td>\n",
       "      <td>1.000</td>\n",
       "      <td>0.2</td>\n",
       "      <td>1.0</td>\n",
       "      <td>1.2</td>\n",
       "      <td>1.9</td>\n",
       "      <td>0.6</td>\n",
       "      <td>0.5</td>\n",
       "      <td>...</td>\n",
       "      <td>51</td>\n",
       "      <td>NaN</td>\n",
       "      <td>NaN</td>\n",
       "      <td>NaN</td>\n",
       "      <td>0.000</td>\n",
       "      <td>1997-98</td>\n",
       "      <td>31</td>\n",
       "      <td>0.0</td>\n",
       "      <td>17.1</td>\n",
       "      <td>29.0</td>\n",
       "    </tr>\n",
       "    <tr>\n",
       "      <th>2</th>\n",
       "      <td>2000-01</td>\n",
       "      <td>0.488</td>\n",
       "      <td>0.286</td>\n",
       "      <td>0.759</td>\n",
       "      <td>0.1</td>\n",
       "      <td>0.5</td>\n",
       "      <td>0.6</td>\n",
       "      <td>1.9</td>\n",
       "      <td>0.6</td>\n",
       "      <td>0.2</td>\n",
       "      <td>...</td>\n",
       "      <td>51</td>\n",
       "      <td>NaN</td>\n",
       "      <td>NaN</td>\n",
       "      <td>NaN</td>\n",
       "      <td>-0.027</td>\n",
       "      <td>2000-01</td>\n",
       "      <td>41</td>\n",
       "      <td>0.0</td>\n",
       "      <td>11.8</td>\n",
       "      <td>32.0</td>\n",
       "    </tr>\n",
       "    <tr>\n",
       "      <th>3</th>\n",
       "      <td>1997-98</td>\n",
       "      <td>0.403</td>\n",
       "      <td>0.211</td>\n",
       "      <td>0.672</td>\n",
       "      <td>0.7</td>\n",
       "      <td>1.2</td>\n",
       "      <td>2.0</td>\n",
       "      <td>0.9</td>\n",
       "      <td>1.1</td>\n",
       "      <td>0.6</td>\n",
       "      <td>...</td>\n",
       "      <td>1505</td>\n",
       "      <td>NaN</td>\n",
       "      <td>NaN</td>\n",
       "      <td>NaN</td>\n",
       "      <td>-0.018</td>\n",
       "      <td>1997-98</td>\n",
       "      <td>59</td>\n",
       "      <td>16.0</td>\n",
       "      <td>16.3</td>\n",
       "      <td>23.0</td>\n",
       "    </tr>\n",
       "    <tr>\n",
       "      <th>4</th>\n",
       "      <td>1998-99</td>\n",
       "      <td>0.435</td>\n",
       "      <td>0.286</td>\n",
       "      <td>0.691</td>\n",
       "      <td>1.5</td>\n",
       "      <td>2.3</td>\n",
       "      <td>3.8</td>\n",
       "      <td>1.0</td>\n",
       "      <td>1.4</td>\n",
       "      <td>1.0</td>\n",
       "      <td>...</td>\n",
       "      <td>1505</td>\n",
       "      <td>NaN</td>\n",
       "      <td>NaN</td>\n",
       "      <td>-0.122</td>\n",
       "      <td>0.491</td>\n",
       "      <td>1998-99</td>\n",
       "      <td>49</td>\n",
       "      <td>49.0</td>\n",
       "      <td>24.6</td>\n",
       "      <td>24.0</td>\n",
       "    </tr>\n",
       "  </tbody>\n",
       "</table>\n",
       "<p>5 rows × 51 columns</p>\n",
       "</div>"
      ],
      "text/plain": [
       "  GROUP_VALUE  FG_PCT  FG3_PCT  FT_PCT  OREB  DREB  REB  AST  TOV  STL  ...   \\\n",
       "0     1996-97   0.445    0.382   0.846   0.2   1.4  1.6  2.5  1.6  0.7  ...    \n",
       "1     1997-98   0.377    0.161   1.000   0.2   1.0  1.2  1.9  0.6  0.5  ...    \n",
       "2     2000-01   0.488    0.286   0.759   0.1   0.5  0.6  1.9  0.6  0.2  ...    \n",
       "3     1997-98   0.403    0.211   0.672   0.7   1.2  2.0  0.9  1.1  0.6  ...    \n",
       "4     1998-99   0.435    0.286   0.691   1.5   2.3  3.8  1.0  1.4  1.0  ...    \n",
       "\n",
       "   PERSON_ID  SC_FG_PCT_DIFF  SC_FG3_PCT_DIFF  PO_FT_PCT_DIFF  4Q_FT_PCT_DIFF  \\\n",
       "0         51             NaN              NaN             NaN           0.059   \n",
       "1         51             NaN              NaN             NaN           0.000   \n",
       "2         51             NaN              NaN             NaN          -0.027   \n",
       "3       1505             NaN              NaN             NaN          -0.018   \n",
       "4       1505             NaN              NaN          -0.122           0.491   \n",
       "\n",
       "   SEASON_ID  GP    GS  AVG_MIN   AGE  \n",
       "0    1996-97  75  51.0     28.4  28.0  \n",
       "1    1997-98  31   0.0     17.1  29.0  \n",
       "2    2000-01  41   0.0     11.8  32.0  \n",
       "3    1997-98  59  16.0     16.3  23.0  \n",
       "4    1998-99  49  49.0     24.6  24.0  \n",
       "\n",
       "[5 rows x 51 columns]"
      ]
     },
     "execution_count": 112,
     "metadata": {},
     "output_type": "execute_result"
    }
   ],
   "source": [
    "comb_df.head()"
   ]
  },
  {
   "cell_type": "code",
   "execution_count": 54,
   "metadata": {},
   "outputs": [
    {
     "data": {
      "text/html": [
       "<div>\n",
       "<style>\n",
       "    .dataframe thead tr:only-child th {\n",
       "        text-align: right;\n",
       "    }\n",
       "\n",
       "    .dataframe thead th {\n",
       "        text-align: left;\n",
       "    }\n",
       "\n",
       "    .dataframe tbody tr th {\n",
       "        vertical-align: top;\n",
       "    }\n",
       "</style>\n",
       "<table border=\"1\" class=\"dataframe\">\n",
       "  <thead>\n",
       "    <tr style=\"text-align: right;\">\n",
       "      <th></th>\n",
       "      <th>GROUP_SET</th>\n",
       "      <th>GROUP_VALUE_ORDER</th>\n",
       "      <th>GROUP_VALUE</th>\n",
       "      <th>GROUP_VALUE_2</th>\n",
       "      <th>GP</th>\n",
       "      <th>W</th>\n",
       "      <th>L</th>\n",
       "      <th>W_PCT</th>\n",
       "      <th>MIN</th>\n",
       "      <th>FGM</th>\n",
       "      <th>...</th>\n",
       "      <th>BLK_RANK</th>\n",
       "      <th>BLKA_RANK</th>\n",
       "      <th>PF_RANK</th>\n",
       "      <th>PFD_RANK</th>\n",
       "      <th>PTS_RANK</th>\n",
       "      <th>PLUS_MINUS_RANK</th>\n",
       "      <th>DD2_RANK</th>\n",
       "      <th>TD3_RANK</th>\n",
       "      <th>CFID</th>\n",
       "      <th>CFPARAMS</th>\n",
       "    </tr>\n",
       "  </thead>\n",
       "  <tbody>\n",
       "    <tr>\n",
       "      <th>0</th>\n",
       "      <td>Points Scored</td>\n",
       "      <td>0</td>\n",
       "      <td>W</td>\n",
       "      <td>All</td>\n",
       "      <td>36</td>\n",
       "      <td>36</td>\n",
       "      <td>0</td>\n",
       "      <td>1.0</td>\n",
       "      <td>36.7</td>\n",
       "      <td>7.2</td>\n",
       "      <td>...</td>\n",
       "      <td>1</td>\n",
       "      <td>2</td>\n",
       "      <td>2</td>\n",
       "      <td>2</td>\n",
       "      <td>2</td>\n",
       "      <td>1</td>\n",
       "      <td>1</td>\n",
       "      <td>1</td>\n",
       "      <td>51</td>\n",
       "      <td>None</td>\n",
       "    </tr>\n",
       "    <tr>\n",
       "      <th>1</th>\n",
       "      <td>Points Scored</td>\n",
       "      <td>5</td>\n",
       "      <td>W</td>\n",
       "      <td>90-99 Points</td>\n",
       "      <td>5</td>\n",
       "      <td>5</td>\n",
       "      <td>0</td>\n",
       "      <td>1.0</td>\n",
       "      <td>35.1</td>\n",
       "      <td>5.8</td>\n",
       "      <td>...</td>\n",
       "      <td>1</td>\n",
       "      <td>1</td>\n",
       "      <td>4</td>\n",
       "      <td>5</td>\n",
       "      <td>5</td>\n",
       "      <td>2</td>\n",
       "      <td>4</td>\n",
       "      <td>2</td>\n",
       "      <td>54</td>\n",
       "      <td>None</td>\n",
       "    </tr>\n",
       "    <tr>\n",
       "      <th>2</th>\n",
       "      <td>Points Scored</td>\n",
       "      <td>6</td>\n",
       "      <td>W</td>\n",
       "      <td>100+ Points</td>\n",
       "      <td>31</td>\n",
       "      <td>31</td>\n",
       "      <td>0</td>\n",
       "      <td>1.0</td>\n",
       "      <td>36.9</td>\n",
       "      <td>7.4</td>\n",
       "      <td>...</td>\n",
       "      <td>3</td>\n",
       "      <td>5</td>\n",
       "      <td>6</td>\n",
       "      <td>4</td>\n",
       "      <td>3</td>\n",
       "      <td>1</td>\n",
       "      <td>1</td>\n",
       "      <td>1</td>\n",
       "      <td>55</td>\n",
       "      <td>None</td>\n",
       "    </tr>\n",
       "    <tr>\n",
       "      <th>3</th>\n",
       "      <td>Points Scored</td>\n",
       "      <td>0</td>\n",
       "      <td>L</td>\n",
       "      <td>All</td>\n",
       "      <td>24</td>\n",
       "      <td>0</td>\n",
       "      <td>24</td>\n",
       "      <td>0.0</td>\n",
       "      <td>38.5</td>\n",
       "      <td>7.0</td>\n",
       "      <td>...</td>\n",
       "      <td>2</td>\n",
       "      <td>1</td>\n",
       "      <td>1</td>\n",
       "      <td>1</td>\n",
       "      <td>1</td>\n",
       "      <td>2</td>\n",
       "      <td>2</td>\n",
       "      <td>2</td>\n",
       "      <td>56</td>\n",
       "      <td>None</td>\n",
       "    </tr>\n",
       "    <tr>\n",
       "      <th>4</th>\n",
       "      <td>Points Scored</td>\n",
       "      <td>3</td>\n",
       "      <td>L</td>\n",
       "      <td>70-79 Points</td>\n",
       "      <td>1</td>\n",
       "      <td>0</td>\n",
       "      <td>1</td>\n",
       "      <td>0.0</td>\n",
       "      <td>34.4</td>\n",
       "      <td>7.0</td>\n",
       "      <td>...</td>\n",
       "      <td>6</td>\n",
       "      <td>6</td>\n",
       "      <td>5</td>\n",
       "      <td>6</td>\n",
       "      <td>2</td>\n",
       "      <td>6</td>\n",
       "      <td>4</td>\n",
       "      <td>2</td>\n",
       "      <td>57</td>\n",
       "      <td>None</td>\n",
       "    </tr>\n",
       "    <tr>\n",
       "      <th>5</th>\n",
       "      <td>Points Scored</td>\n",
       "      <td>4</td>\n",
       "      <td>L</td>\n",
       "      <td>80-89 Points</td>\n",
       "      <td>2</td>\n",
       "      <td>0</td>\n",
       "      <td>2</td>\n",
       "      <td>0.0</td>\n",
       "      <td>34.5</td>\n",
       "      <td>3.5</td>\n",
       "      <td>...</td>\n",
       "      <td>5</td>\n",
       "      <td>4</td>\n",
       "      <td>1</td>\n",
       "      <td>2</td>\n",
       "      <td>6</td>\n",
       "      <td>5</td>\n",
       "      <td>4</td>\n",
       "      <td>2</td>\n",
       "      <td>58</td>\n",
       "      <td>None</td>\n",
       "    </tr>\n",
       "    <tr>\n",
       "      <th>6</th>\n",
       "      <td>Points Scored</td>\n",
       "      <td>5</td>\n",
       "      <td>L</td>\n",
       "      <td>90-99 Points</td>\n",
       "      <td>7</td>\n",
       "      <td>0</td>\n",
       "      <td>7</td>\n",
       "      <td>0.0</td>\n",
       "      <td>38.9</td>\n",
       "      <td>6.9</td>\n",
       "      <td>...</td>\n",
       "      <td>2</td>\n",
       "      <td>3</td>\n",
       "      <td>2</td>\n",
       "      <td>3</td>\n",
       "      <td>4</td>\n",
       "      <td>4</td>\n",
       "      <td>3</td>\n",
       "      <td>2</td>\n",
       "      <td>59</td>\n",
       "      <td>None</td>\n",
       "    </tr>\n",
       "    <tr>\n",
       "      <th>7</th>\n",
       "      <td>Points Scored</td>\n",
       "      <td>6</td>\n",
       "      <td>L</td>\n",
       "      <td>100+ Points</td>\n",
       "      <td>14</td>\n",
       "      <td>0</td>\n",
       "      <td>14</td>\n",
       "      <td>0.0</td>\n",
       "      <td>39.2</td>\n",
       "      <td>7.5</td>\n",
       "      <td>...</td>\n",
       "      <td>4</td>\n",
       "      <td>2</td>\n",
       "      <td>3</td>\n",
       "      <td>1</td>\n",
       "      <td>1</td>\n",
       "      <td>3</td>\n",
       "      <td>2</td>\n",
       "      <td>2</td>\n",
       "      <td>60</td>\n",
       "      <td>None</td>\n",
       "    </tr>\n",
       "  </tbody>\n",
       "</table>\n",
       "<p>8 rows × 62 columns</p>\n",
       "</div>"
      ],
      "text/plain": [
       "       GROUP_SET  GROUP_VALUE_ORDER GROUP_VALUE GROUP_VALUE_2  GP   W   L  \\\n",
       "0  Points Scored                  0           W           All  36  36   0   \n",
       "1  Points Scored                  5           W  90-99 Points   5   5   0   \n",
       "2  Points Scored                  6           W   100+ Points  31  31   0   \n",
       "3  Points Scored                  0           L           All  24   0  24   \n",
       "4  Points Scored                  3           L  70-79 Points   1   0   1   \n",
       "5  Points Scored                  4           L  80-89 Points   2   0   2   \n",
       "6  Points Scored                  5           L  90-99 Points   7   0   7   \n",
       "7  Points Scored                  6           L   100+ Points  14   0  14   \n",
       "\n",
       "   W_PCT   MIN  FGM    ...     BLK_RANK  BLKA_RANK  PF_RANK  PFD_RANK  \\\n",
       "0    1.0  36.7  7.2    ...            1          2        2         2   \n",
       "1    1.0  35.1  5.8    ...            1          1        4         5   \n",
       "2    1.0  36.9  7.4    ...            3          5        6         4   \n",
       "3    0.0  38.5  7.0    ...            2          1        1         1   \n",
       "4    0.0  34.4  7.0    ...            6          6        5         6   \n",
       "5    0.0  34.5  3.5    ...            5          4        1         2   \n",
       "6    0.0  38.9  6.9    ...            2          3        2         3   \n",
       "7    0.0  39.2  7.5    ...            4          2        3         1   \n",
       "\n",
       "   PTS_RANK  PLUS_MINUS_RANK  DD2_RANK  TD3_RANK  CFID  CFPARAMS  \n",
       "0         2                1         1         1    51      None  \n",
       "1         5                2         4         2    54      None  \n",
       "2         3                1         1         1    55      None  \n",
       "3         1                2         2         2    56      None  \n",
       "4         2                6         4         2    57      None  \n",
       "5         6                5         4         2    58      None  \n",
       "6         4                4         3         2    59      None  \n",
       "7         1                3         2         2    60      None  \n",
       "\n",
       "[8 rows x 62 columns]"
      ]
     },
     "execution_count": 54,
     "metadata": {},
     "output_type": "execute_result"
    }
   ],
   "source": [
    "player.PlayerPerformanceSplits(200768).points_scored()"
   ]
  },
  {
   "cell_type": "markdown",
   "metadata": {},
   "source": [
    "Get Shot tracking for players: Touch time, shot distance, closest defender"
   ]
  },
  {
   "cell_type": "code",
   "execution_count": 73,
   "metadata": {
    "collapsed": true
   },
   "outputs": [
    {
     "data": {
      "text/html": [
       "<div>\n",
       "<style>\n",
       "    .dataframe thead tr:only-child th {\n",
       "        text-align: right;\n",
       "    }\n",
       "\n",
       "    .dataframe thead th {\n",
       "        text-align: left;\n",
       "    }\n",
       "\n",
       "    .dataframe tbody tr th {\n",
       "        vertical-align: top;\n",
       "    }\n",
       "</style>\n",
       "<table border=\"1\" class=\"dataframe\">\n",
       "  <thead>\n",
       "    <tr style=\"text-align: right;\">\n",
       "      <th></th>\n",
       "      <th>GROUP_SET</th>\n",
       "      <th>GROUP_VALUE</th>\n",
       "      <th>GP</th>\n",
       "      <th>W</th>\n",
       "      <th>L</th>\n",
       "      <th>W_PCT</th>\n",
       "      <th>MIN</th>\n",
       "      <th>FGM</th>\n",
       "      <th>FGA</th>\n",
       "      <th>FG_PCT</th>\n",
       "      <th>...</th>\n",
       "      <th>BLK_RANK</th>\n",
       "      <th>BLKA_RANK</th>\n",
       "      <th>PF_RANK</th>\n",
       "      <th>PFD_RANK</th>\n",
       "      <th>PTS_RANK</th>\n",
       "      <th>PLUS_MINUS_RANK</th>\n",
       "      <th>DD2_RANK</th>\n",
       "      <th>TD3_RANK</th>\n",
       "      <th>CFID</th>\n",
       "      <th>CFPARAMS</th>\n",
       "    </tr>\n",
       "  </thead>\n",
       "  <tbody>\n",
       "    <tr>\n",
       "      <th>0</th>\n",
       "      <td>By Actual Margin</td>\n",
       "      <td>Behind more than 20 Points</td>\n",
       "      <td>6</td>\n",
       "      <td>0</td>\n",
       "      <td>6</td>\n",
       "      <td>0.000</td>\n",
       "      <td>1.5</td>\n",
       "      <td>0.0</td>\n",
       "      <td>0.7</td>\n",
       "      <td>0.000</td>\n",
       "      <td>...</td>\n",
       "      <td>10</td>\n",
       "      <td>11</td>\n",
       "      <td>11</td>\n",
       "      <td>7</td>\n",
       "      <td>11</td>\n",
       "      <td>5</td>\n",
       "      <td>10</td>\n",
       "      <td>8</td>\n",
       "      <td>23</td>\n",
       "      <td>Behind more than 20 Points</td>\n",
       "    </tr>\n",
       "    <tr>\n",
       "      <th>1</th>\n",
       "      <td>By Actual Margin</td>\n",
       "      <td>Behind 16 - 20 Points</td>\n",
       "      <td>12</td>\n",
       "      <td>3</td>\n",
       "      <td>9</td>\n",
       "      <td>0.250</td>\n",
       "      <td>3.2</td>\n",
       "      <td>0.5</td>\n",
       "      <td>1.3</td>\n",
       "      <td>0.375</td>\n",
       "      <td>...</td>\n",
       "      <td>4</td>\n",
       "      <td>8</td>\n",
       "      <td>5</td>\n",
       "      <td>5</td>\n",
       "      <td>7</td>\n",
       "      <td>3</td>\n",
       "      <td>10</td>\n",
       "      <td>8</td>\n",
       "      <td>23</td>\n",
       "      <td>Behind 16 - 20 Points</td>\n",
       "    </tr>\n",
       "    <tr>\n",
       "      <th>2</th>\n",
       "      <td>By Actual Margin</td>\n",
       "      <td>Behind 11 - 15 Points</td>\n",
       "      <td>28</td>\n",
       "      <td>11</td>\n",
       "      <td>17</td>\n",
       "      <td>0.393</td>\n",
       "      <td>4.4</td>\n",
       "      <td>0.9</td>\n",
       "      <td>2.3</td>\n",
       "      <td>0.397</td>\n",
       "      <td>...</td>\n",
       "      <td>6</td>\n",
       "      <td>5</td>\n",
       "      <td>7</td>\n",
       "      <td>4</td>\n",
       "      <td>6</td>\n",
       "      <td>4</td>\n",
       "      <td>9</td>\n",
       "      <td>8</td>\n",
       "      <td>23</td>\n",
       "      <td>Behind 11 - 15 Points</td>\n",
       "    </tr>\n",
       "    <tr>\n",
       "      <th>3</th>\n",
       "      <td>By Actual Margin</td>\n",
       "      <td>Behind 6 - 10 Points</td>\n",
       "      <td>57</td>\n",
       "      <td>34</td>\n",
       "      <td>23</td>\n",
       "      <td>0.596</td>\n",
       "      <td>5.6</td>\n",
       "      <td>1.3</td>\n",
       "      <td>3.2</td>\n",
       "      <td>0.399</td>\n",
       "      <td>...</td>\n",
       "      <td>7</td>\n",
       "      <td>1</td>\n",
       "      <td>6</td>\n",
       "      <td>6</td>\n",
       "      <td>4</td>\n",
       "      <td>1</td>\n",
       "      <td>6</td>\n",
       "      <td>8</td>\n",
       "      <td>23</td>\n",
       "      <td>Behind 6 - 10 Points</td>\n",
       "    </tr>\n",
       "    <tr>\n",
       "      <th>4</th>\n",
       "      <td>By Actual Margin</td>\n",
       "      <td>Behind 1 - 5 Points</td>\n",
       "      <td>70</td>\n",
       "      <td>48</td>\n",
       "      <td>22</td>\n",
       "      <td>0.686</td>\n",
       "      <td>9.1</td>\n",
       "      <td>1.7</td>\n",
       "      <td>3.8</td>\n",
       "      <td>0.452</td>\n",
       "      <td>...</td>\n",
       "      <td>2</td>\n",
       "      <td>4</td>\n",
       "      <td>1</td>\n",
       "      <td>2</td>\n",
       "      <td>1</td>\n",
       "      <td>2</td>\n",
       "      <td>3</td>\n",
       "      <td>1</td>\n",
       "      <td>23</td>\n",
       "      <td>Behind 1 - 5 Points</td>\n",
       "    </tr>\n",
       "    <tr>\n",
       "      <th>5</th>\n",
       "      <td>By Actual Margin</td>\n",
       "      <td>Tied</td>\n",
       "      <td>77</td>\n",
       "      <td>54</td>\n",
       "      <td>23</td>\n",
       "      <td>0.701</td>\n",
       "      <td>2.6</td>\n",
       "      <td>0.4</td>\n",
       "      <td>1.1</td>\n",
       "      <td>0.415</td>\n",
       "      <td>...</td>\n",
       "      <td>8</td>\n",
       "      <td>9</td>\n",
       "      <td>10</td>\n",
       "      <td>11</td>\n",
       "      <td>9</td>\n",
       "      <td>7</td>\n",
       "      <td>1</td>\n",
       "      <td>1</td>\n",
       "      <td>23</td>\n",
       "      <td>Tied</td>\n",
       "    </tr>\n",
       "    <tr>\n",
       "      <th>6</th>\n",
       "      <td>By Actual Margin</td>\n",
       "      <td>Ahead 1 - 5 Points</td>\n",
       "      <td>75</td>\n",
       "      <td>54</td>\n",
       "      <td>21</td>\n",
       "      <td>0.720</td>\n",
       "      <td>8.6</td>\n",
       "      <td>1.6</td>\n",
       "      <td>3.4</td>\n",
       "      <td>0.461</td>\n",
       "      <td>...</td>\n",
       "      <td>5</td>\n",
       "      <td>3</td>\n",
       "      <td>2</td>\n",
       "      <td>3</td>\n",
       "      <td>2</td>\n",
       "      <td>6</td>\n",
       "      <td>1</td>\n",
       "      <td>1</td>\n",
       "      <td>23</td>\n",
       "      <td>Ahead 1 - 5 Points</td>\n",
       "    </tr>\n",
       "    <tr>\n",
       "      <th>7</th>\n",
       "      <td>By Actual Margin</td>\n",
       "      <td>Ahead 6 - 10 Points</td>\n",
       "      <td>60</td>\n",
       "      <td>50</td>\n",
       "      <td>10</td>\n",
       "      <td>0.833</td>\n",
       "      <td>8.4</td>\n",
       "      <td>1.4</td>\n",
       "      <td>3.3</td>\n",
       "      <td>0.434</td>\n",
       "      <td>...</td>\n",
       "      <td>1</td>\n",
       "      <td>2</td>\n",
       "      <td>3</td>\n",
       "      <td>1</td>\n",
       "      <td>3</td>\n",
       "      <td>8</td>\n",
       "      <td>4</td>\n",
       "      <td>1</td>\n",
       "      <td>23</td>\n",
       "      <td>Ahead 6 - 10 Points</td>\n",
       "    </tr>\n",
       "    <tr>\n",
       "      <th>8</th>\n",
       "      <td>By Actual Margin</td>\n",
       "      <td>Ahead 11 - 15 Points</td>\n",
       "      <td>47</td>\n",
       "      <td>42</td>\n",
       "      <td>5</td>\n",
       "      <td>0.894</td>\n",
       "      <td>5.8</td>\n",
       "      <td>0.9</td>\n",
       "      <td>2.1</td>\n",
       "      <td>0.412</td>\n",
       "      <td>...</td>\n",
       "      <td>3</td>\n",
       "      <td>6</td>\n",
       "      <td>4</td>\n",
       "      <td>8</td>\n",
       "      <td>5</td>\n",
       "      <td>10</td>\n",
       "      <td>5</td>\n",
       "      <td>1</td>\n",
       "      <td>23</td>\n",
       "      <td>Ahead 11 - 15 Points</td>\n",
       "    </tr>\n",
       "    <tr>\n",
       "      <th>9</th>\n",
       "      <td>By Actual Margin</td>\n",
       "      <td>Ahead 16 - 20 Points</td>\n",
       "      <td>26</td>\n",
       "      <td>23</td>\n",
       "      <td>3</td>\n",
       "      <td>0.885</td>\n",
       "      <td>3.0</td>\n",
       "      <td>0.3</td>\n",
       "      <td>0.9</td>\n",
       "      <td>0.304</td>\n",
       "      <td>...</td>\n",
       "      <td>11</td>\n",
       "      <td>10</td>\n",
       "      <td>8</td>\n",
       "      <td>9</td>\n",
       "      <td>10</td>\n",
       "      <td>11</td>\n",
       "      <td>7</td>\n",
       "      <td>1</td>\n",
       "      <td>23</td>\n",
       "      <td>Ahead 16 - 20 Points</td>\n",
       "    </tr>\n",
       "    <tr>\n",
       "      <th>10</th>\n",
       "      <td>By Actual Margin</td>\n",
       "      <td>Ahead more than 20 Points</td>\n",
       "      <td>10</td>\n",
       "      <td>9</td>\n",
       "      <td>1</td>\n",
       "      <td>0.900</td>\n",
       "      <td>3.0</td>\n",
       "      <td>0.4</td>\n",
       "      <td>1.3</td>\n",
       "      <td>0.308</td>\n",
       "      <td>...</td>\n",
       "      <td>9</td>\n",
       "      <td>7</td>\n",
       "      <td>9</td>\n",
       "      <td>10</td>\n",
       "      <td>8</td>\n",
       "      <td>9</td>\n",
       "      <td>8</td>\n",
       "      <td>1</td>\n",
       "      <td>23</td>\n",
       "      <td>Ahead more than 20 Points</td>\n",
       "    </tr>\n",
       "  </tbody>\n",
       "</table>\n",
       "<p>11 rows × 60 columns</p>\n",
       "</div>"
      ],
      "text/plain": [
       "           GROUP_SET                 GROUP_VALUE  GP   W   L  W_PCT  MIN  FGM  \\\n",
       "0   By Actual Margin  Behind more than 20 Points   6   0   6  0.000  1.5  0.0   \n",
       "1   By Actual Margin       Behind 16 - 20 Points  12   3   9  0.250  3.2  0.5   \n",
       "2   By Actual Margin       Behind 11 - 15 Points  28  11  17  0.393  4.4  0.9   \n",
       "3   By Actual Margin        Behind 6 - 10 Points  57  34  23  0.596  5.6  1.3   \n",
       "4   By Actual Margin         Behind 1 - 5 Points  70  48  22  0.686  9.1  1.7   \n",
       "5   By Actual Margin                        Tied  77  54  23  0.701  2.6  0.4   \n",
       "6   By Actual Margin          Ahead 1 - 5 Points  75  54  21  0.720  8.6  1.6   \n",
       "7   By Actual Margin         Ahead 6 - 10 Points  60  50  10  0.833  8.4  1.4   \n",
       "8   By Actual Margin        Ahead 11 - 15 Points  47  42   5  0.894  5.8  0.9   \n",
       "9   By Actual Margin        Ahead 16 - 20 Points  26  23   3  0.885  3.0  0.3   \n",
       "10  By Actual Margin   Ahead more than 20 Points  10   9   1  0.900  3.0  0.4   \n",
       "\n",
       "    FGA  FG_PCT             ...              BLK_RANK  BLKA_RANK  PF_RANK  \\\n",
       "0   0.7   0.000             ...                    10         11       11   \n",
       "1   1.3   0.375             ...                     4          8        5   \n",
       "2   2.3   0.397             ...                     6          5        7   \n",
       "3   3.2   0.399             ...                     7          1        6   \n",
       "4   3.8   0.452             ...                     2          4        1   \n",
       "5   1.1   0.415             ...                     8          9       10   \n",
       "6   3.4   0.461             ...                     5          3        2   \n",
       "7   3.3   0.434             ...                     1          2        3   \n",
       "8   2.1   0.412             ...                     3          6        4   \n",
       "9   0.9   0.304             ...                    11         10        8   \n",
       "10  1.3   0.308             ...                     9          7        9   \n",
       "\n",
       "    PFD_RANK  PTS_RANK  PLUS_MINUS_RANK  DD2_RANK  TD3_RANK  CFID  \\\n",
       "0          7        11                5        10         8    23   \n",
       "1          5         7                3        10         8    23   \n",
       "2          4         6                4         9         8    23   \n",
       "3          6         4                1         6         8    23   \n",
       "4          2         1                2         3         1    23   \n",
       "5         11         9                7         1         1    23   \n",
       "6          3         2                6         1         1    23   \n",
       "7          1         3                8         4         1    23   \n",
       "8          8         5               10         5         1    23   \n",
       "9          9        10               11         7         1    23   \n",
       "10        10         8                9         8         1    23   \n",
       "\n",
       "                      CFPARAMS  \n",
       "0   Behind more than 20 Points  \n",
       "1        Behind 16 - 20 Points  \n",
       "2        Behind 11 - 15 Points  \n",
       "3         Behind 6 - 10 Points  \n",
       "4          Behind 1 - 5 Points  \n",
       "5                         Tied  \n",
       "6           Ahead 1 - 5 Points  \n",
       "7          Ahead 6 - 10 Points  \n",
       "8         Ahead 11 - 15 Points  \n",
       "9         Ahead 16 - 20 Points  \n",
       "10   Ahead more than 20 Points  \n",
       "\n",
       "[11 rows x 60 columns]"
      ]
     },
     "execution_count": 73,
     "metadata": {},
     "output_type": "execute_result"
    }
   ],
   "source": [
    "player.PlayerInGameSplits(200768, season='2015-16').by_actual_margin()"
   ]
  },
  {
   "cell_type": "code",
   "execution_count": 84,
   "metadata": {},
   "outputs": [
    {
     "data": {
      "text/html": [
       "<div>\n",
       "<style>\n",
       "    .dataframe thead tr:only-child th {\n",
       "        text-align: right;\n",
       "    }\n",
       "\n",
       "    .dataframe thead th {\n",
       "        text-align: left;\n",
       "    }\n",
       "\n",
       "    .dataframe tbody tr th {\n",
       "        vertical-align: top;\n",
       "    }\n",
       "</style>\n",
       "<table border=\"1\" class=\"dataframe\">\n",
       "  <thead>\n",
       "    <tr style=\"text-align: right;\">\n",
       "      <th></th>\n",
       "      <th>GROUP_SET</th>\n",
       "      <th>GROUP_VALUE</th>\n",
       "      <th>GP</th>\n",
       "      <th>W</th>\n",
       "      <th>L</th>\n",
       "      <th>W_PCT</th>\n",
       "      <th>MIN</th>\n",
       "      <th>FGM</th>\n",
       "      <th>FGA</th>\n",
       "      <th>FG_PCT</th>\n",
       "      <th>...</th>\n",
       "      <th>BLK_RANK</th>\n",
       "      <th>BLKA_RANK</th>\n",
       "      <th>PF_RANK</th>\n",
       "      <th>PFD_RANK</th>\n",
       "      <th>PTS_RANK</th>\n",
       "      <th>PLUS_MINUS_RANK</th>\n",
       "      <th>DD2_RANK</th>\n",
       "      <th>TD3_RANK</th>\n",
       "      <th>CFID</th>\n",
       "      <th>CFPARAMS</th>\n",
       "    </tr>\n",
       "  </thead>\n",
       "  <tbody>\n",
       "    <tr>\n",
       "      <th>0</th>\n",
       "      <td>Last 10 SEC &lt;= 3 PTS</td>\n",
       "      <td>2007-08</td>\n",
       "      <td>12</td>\n",
       "      <td>1</td>\n",
       "      <td>11</td>\n",
       "      <td>0.083</td>\n",
       "      <td>0.2</td>\n",
       "      <td>0.0</td>\n",
       "      <td>0.2</td>\n",
       "      <td>0.0</td>\n",
       "      <td>...</td>\n",
       "      <td>1</td>\n",
       "      <td>1</td>\n",
       "      <td>1</td>\n",
       "      <td>1</td>\n",
       "      <td>1</td>\n",
       "      <td>1</td>\n",
       "      <td>1</td>\n",
       "      <td>1</td>\n",
       "      <td>13</td>\n",
       "      <td>2007-08</td>\n",
       "    </tr>\n",
       "  </tbody>\n",
       "</table>\n",
       "<p>1 rows × 60 columns</p>\n",
       "</div>"
      ],
      "text/plain": [
       "              GROUP_SET GROUP_VALUE  GP  W   L  W_PCT  MIN  FGM  FGA  FG_PCT  \\\n",
       "0  Last 10 SEC <= 3 PTS     2007-08  12  1  11  0.083  0.2  0.0  0.2     0.0   \n",
       "\n",
       "     ...     BLK_RANK  BLKA_RANK  PF_RANK  PFD_RANK  PTS_RANK  \\\n",
       "0    ...            1          1        1         1         1   \n",
       "\n",
       "   PLUS_MINUS_RANK  DD2_RANK  TD3_RANK  CFID  CFPARAMS  \n",
       "0                1         1         1    13   2007-08  \n",
       "\n",
       "[1 rows x 60 columns]"
      ]
     },
     "execution_count": 84,
     "metadata": {},
     "output_type": "execute_result"
    }
   ],
   "source": [
    "player.PlayerClutchSplits(200768, season = '2007-08').last10sec_deficit_3point()"
   ]
  },
  {
   "cell_type": "markdown",
   "metadata": {},
   "source": [
    "Shot areas\n",
    "Shot types\n",
    "Shot splits (Decision making - more shots on higher prob?)\n",
    "Clutch splits from 2007 - 2017,\n"
   ]
  }
 ],
 "metadata": {
  "kernelspec": {
   "display_name": "Python 3",
   "language": "python",
   "name": "python3"
  },
  "language_info": {
   "codemirror_mode": {
    "name": "ipython",
    "version": 3
   },
   "file_extension": ".py",
   "mimetype": "text/x-python",
   "name": "python",
   "nbconvert_exporter": "python",
   "pygments_lexer": "ipython3",
   "version": "3.6.1"
  }
 },
 "nbformat": 4,
 "nbformat_minor": 2
}
