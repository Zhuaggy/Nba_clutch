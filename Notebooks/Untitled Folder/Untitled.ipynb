{
 "cells": [
  {
   "cell_type": "code",
   "execution_count": 7,
   "metadata": {},
   "outputs": [],
   "source": [
    "from urllib.request import urlopen\n",
    "from bs4 import BeautifulSoup\n",
    "import pandas as pd"
   ]
  },
  {
   "cell_type": "code",
   "execution_count": 8,
   "metadata": {
    "collapsed": true
   },
   "outputs": [],
   "source": [
    "# url that we are scraping\n",
    "url = \"http://www.basketball-reference.com/draft/NBA_2014.html\"\n",
    "\n",
    "# this is the html from the given url\n",
    "html = urlopen(url)"
   ]
  },
  {
   "cell_type": "code",
   "execution_count": 9,
   "metadata": {
    "scrolled": true
   },
   "outputs": [
    {
     "name": "stderr",
     "output_type": "stream",
     "text": [
      "/Users/andrewzhuang/anaconda/lib/python3.6/site-packages/bs4/__init__.py:181: UserWarning: No parser was explicitly specified, so I'm using the best available HTML parser for this system (\"lxml\"). This usually isn't a problem, but if you run this code on another system, or in a different virtual environment, it may use a different parser and behave differently.\n",
      "\n",
      "The code that caused this warning is on line 193 of the file /Users/andrewzhuang/anaconda/lib/python3.6/runpy.py. To get rid of this warning, change code that looks like this:\n",
      "\n",
      " BeautifulSoup(YOUR_MARKUP})\n",
      "\n",
      "to this:\n",
      "\n",
      " BeautifulSoup(YOUR_MARKUP, \"lxml\")\n",
      "\n",
      "  markup_type=markup_type))\n"
     ]
    }
   ],
   "source": [
    "soup = BeautifulSoup(html)\n"
   ]
  },
  {
   "cell_type": "code",
   "execution_count": 10,
   "metadata": {},
   "outputs": [
    {
     "data": {
      "text/plain": [
       "bs4.BeautifulSoup"
      ]
     },
     "execution_count": 10,
     "metadata": {},
     "output_type": "execute_result"
    }
   ],
   "source": [
    "type(soup)  # we see that soup is a BeautifulSoup object"
   ]
  },
  {
   "cell_type": "code",
   "execution_count": 32,
   "metadata": {
    "scrolled": true
   },
   "outputs": [
    {
     "ename": "AttributeError",
     "evalue": "'list' object has no attribute 'findAll'",
     "output_type": "error",
     "traceback": [
      "\u001b[0;31m---------------------------------------------------------------------------\u001b[0m",
      "\u001b[0;31mAttributeError\u001b[0m                            Traceback (most recent call last)",
      "\u001b[0;32m<ipython-input-32-96a1ffd97ba4>\u001b[0m in \u001b[0;36m<module>\u001b[0;34m()\u001b[0m\n\u001b[1;32m      1\u001b[0m column_headers = [th.getText() for th in \n\u001b[0;32m----> 2\u001b[0;31m                   soup.findAll('tr', limit=2)[1].findAll('th')].findAll('th')\n\u001b[0m",
      "\u001b[0;31mAttributeError\u001b[0m: 'list' object has no attribute 'findAll'"
     ]
    }
   ],
   "source": [
    "column_headers = [th.getText() for th in \n",
    "                  soup.findAll('tr', limit=2)[1].findAll('th')]"
   ]
  },
  {
   "cell_type": "code",
   "execution_count": 33,
   "metadata": {},
   "outputs": [
    {
     "data": {
      "text/plain": [
       "[<th aria-label=\"Rank\" class=\"ranker poptip sort_default_asc show_partial_when_sorting right\" data-stat=\"ranker\" data-tip=\"Rank\" scope=\"col\">Rk</th>,\n",
       " <th aria-label=\"Overall Pick\" class=\" poptip sort_default_asc right\" data-over-header=\"Round 1\" data-stat=\"pick_overall\" data-tip=\"Overall Pick\" scope=\"col\">Pk</th>,\n",
       " <th aria-label=\"Team\" class=\" poptip sort_default_asc left\" data-stat=\"team_id\" data-tip=\"Team\" scope=\"col\">Tm</th>,\n",
       " <th aria-label=\"Player\" class=\" poptip sort_default_asc left\" data-over-header=\"Round 1\" data-stat=\"player\" scope=\"col\">Player</th>,\n",
       " <th aria-label=\"College\" class=\" poptip sort_default_asc left\" data-over-header=\"Round 1\" data-stat=\"college_name\" scope=\"col\">College</th>,\n",
       " <th aria-label=\"Seasons that player has appeared in the NBA\" class=\" poptip center\" data-stat=\"seasons\" data-tip=\"Seasons that player has appeared in the NBA\" scope=\"col\">Yrs</th>,\n",
       " <th aria-label=\"Games\" class=\" poptip right\" data-over-header=\"Totals\" data-stat=\"g\" data-tip=\"Games\" scope=\"col\">G</th>,\n",
       " <th aria-label=\"Minutes Played\" class=\" poptip right\" data-over-header=\"Totals\" data-stat=\"mp\" data-tip=\"Minutes Played\" scope=\"col\">MP</th>,\n",
       " <th aria-label=\"Points\" class=\" poptip right\" data-over-header=\"Totals\" data-stat=\"pts\" data-tip=\"Points\" scope=\"col\">PTS</th>,\n",
       " <th aria-label=\"Total Rebounds\" class=\" poptip right\" data-over-header=\"Totals\" data-stat=\"trb\" data-tip=\"Total Rebounds\" scope=\"col\">TRB</th>,\n",
       " <th aria-label=\"Assists\" class=\" poptip right\" data-over-header=\"Totals\" data-stat=\"ast\" data-tip=\"Assists\" scope=\"col\">AST</th>,\n",
       " <th aria-label=\"Field Goal Percentage\" class=\" poptip right\" data-over-header=\"Shooting\" data-stat=\"fg_pct\" data-tip=\"Field Goal Percentage\" scope=\"col\">FG%</th>,\n",
       " <th aria-label=\"3-Point Field Goal Percentage\" class=\" poptip right\" data-over-header=\"Shooting\" data-stat=\"fg3_pct\" data-tip=\"3-Point Field Goal Percentage\" scope=\"col\">3P%</th>,\n",
       " <th aria-label=\"Free Throw Percentage\" class=\" poptip right\" data-over-header=\"Shooting\" data-stat=\"ft_pct\" data-tip=\"Free Throw Percentage\" scope=\"col\">FT%</th>,\n",
       " <th aria-label=\"Minutes Played Per Game\" class=\" poptip right\" data-over-header=\"Per Game\" data-stat=\"mp_per_g\" data-tip=\"Minutes Played Per Game\" scope=\"col\">MP</th>,\n",
       " <th aria-label=\"Points Per Game\" class=\" poptip right\" data-over-header=\"Per Game\" data-stat=\"pts_per_g\" data-tip=\"Points Per Game\" scope=\"col\">PTS</th>,\n",
       " <th aria-label=\"Total Rebounds Per Game\" class=\" poptip right\" data-over-header=\"Per Game\" data-stat=\"trb_per_g\" data-tip=\"Total Rebounds Per Game\" scope=\"col\">TRB</th>,\n",
       " <th aria-label=\"Assists Per Game\" class=\" poptip right\" data-over-header=\"Per Game\" data-stat=\"ast_per_g\" data-tip=\"Assists Per Game\" scope=\"col\">AST</th>,\n",
       " <th aria-label=\"Win Shares\" class=\" poptip right\" data-over-header=\"Advanced\" data-stat=\"ws\" data-tip=\"&lt;b&gt;Win Shares&lt;/b&gt;&lt;br&gt;An estimate of the number of wins contributed by a player.\" scope=\"col\">WS</th>,\n",
       " <th aria-label=\"Win Shares Per 48 Minutes\" class=\" poptip right\" data-over-header=\"Advanced\" data-stat=\"ws_per_48\" data-tip=\"&lt;b&gt;Win Shares Per 48 Minutes&lt;/b&gt;&lt;br&gt;An estimate of the number of wins contributed by a player per 48 minutes (league average is approximately .100)\" scope=\"col\">WS/48</th>,\n",
       " <th aria-label=\"BPM\" class=\" poptip right\" data-over-header=\"Advanced\" data-stat=\"bpm\" data-tip=\"&lt;b&gt;Box Plus/Minus&lt;/b&gt;&lt;br&gt;A box score estimate of the points per 100 possessions a player contributed above a league-average player, translated to an average team.\" scope=\"col\">BPM</th>,\n",
       " <th aria-label=\"VORP\" class=\" poptip right\" data-over-header=\"Advanced\" data-stat=\"vorp\" data-tip=\"&lt;b&gt;Value over Replacement Player&lt;/b&gt;&lt;br&gt;A box score estimate of the points per 100 TEAM possessions that a player contributed above a replacement-level (-2.0) player, translated to an average team and prorated to an 82-game season.&lt;br&gt;&lt;br&gt;Multiply by 2.70 to convert to wins over replacement.\" scope=\"col\">VORP</th>]"
      ]
     },
     "execution_count": 33,
     "metadata": {},
     "output_type": "execute_result"
    }
   ],
   "source": [
    "soup.findAll('tr', limit=2)[1].findAll('th')"
   ]
  },
  {
   "cell_type": "code",
   "execution_count": null,
   "metadata": {
    "collapsed": true
   },
   "outputs": [],
   "source": []
  },
  {
   "cell_type": "code",
   "execution_count": null,
   "metadata": {
    "collapsed": true
   },
   "outputs": [],
   "source": []
  },
  {
   "cell_type": "code",
   "execution_count": 15,
   "metadata": {},
   "outputs": [],
   "source": [
    "data_rows = soup.findAll('tr')[2:]"
   ]
  },
  {
   "cell_type": "code",
   "execution_count": 18,
   "metadata": {},
   "outputs": [],
   "source": [
    "player_data = [[td.getText() for td in data_rows[i].findAll('td')]\n",
    "               for i in range(len(data_rows))]"
   ]
  },
  {
   "cell_type": "code",
   "execution_count": 20,
   "metadata": {},
   "outputs": [],
   "source": [
    "player_data_02 = []  # create an empty list to hold all the data\n",
    "\n",
    "for i in range(len(data_rows)):  # for each table row\n",
    "    player_row = []  # create an empty list for each pick/player\n",
    "\n",
    "    # for each table data element from each table row\n",
    "    for td in data_rows[i].findAll('td'):        \n",
    "        # get the text content and append to the player_row \n",
    "        player_row.append(td.getText())        \n",
    "\n",
    "    # then append each pick/player to the player_data matrix\n",
    "    player_data_02.append(player_row)"
   ]
  },
  {
   "cell_type": "code",
   "execution_count": 28,
   "metadata": {},
   "outputs": [],
   "source": [
    "df = pd.DataFrame(player_data_02)"
   ]
  },
  {
   "cell_type": "code",
   "execution_count": 26,
   "metadata": {},
   "outputs": [
    {
     "data": {
      "text/plain": [
       "['Rk',\n",
       " 'Pk',\n",
       " 'Tm',\n",
       " 'Player',\n",
       " 'College',\n",
       " 'Yrs',\n",
       " 'G',\n",
       " 'MP',\n",
       " 'PTS',\n",
       " 'TRB',\n",
       " 'AST',\n",
       " 'FG%',\n",
       " '3P%',\n",
       " 'FT%',\n",
       " 'MP',\n",
       " 'PTS',\n",
       " 'TRB',\n",
       " 'AST',\n",
       " 'WS',\n",
       " 'WS/48',\n",
       " 'BPM',\n",
       " 'VORP']"
      ]
     },
     "execution_count": 26,
     "metadata": {},
     "output_type": "execute_result"
    }
   ],
   "source": [
    "column_headers"
   ]
  },
  {
   "cell_type": "code",
   "execution_count": 29,
   "metadata": {},
   "outputs": [
    {
     "data": {
      "text/plain": [
       "RangeIndex(start=0, stop=21, step=1)"
      ]
     },
     "execution_count": 29,
     "metadata": {},
     "output_type": "execute_result"
    }
   ],
   "source": [
    "df.columns"
   ]
  },
  {
   "cell_type": "code",
   "execution_count": 30,
   "metadata": {},
   "outputs": [
    {
     "data": {
      "text/html": [
       "<div>\n",
       "<style>\n",
       "    .dataframe thead tr:only-child th {\n",
       "        text-align: right;\n",
       "    }\n",
       "\n",
       "    .dataframe thead th {\n",
       "        text-align: left;\n",
       "    }\n",
       "\n",
       "    .dataframe tbody tr th {\n",
       "        vertical-align: top;\n",
       "    }\n",
       "</style>\n",
       "<table border=\"1\" class=\"dataframe\">\n",
       "  <thead>\n",
       "    <tr style=\"text-align: right;\">\n",
       "      <th></th>\n",
       "      <th>0</th>\n",
       "      <th>1</th>\n",
       "      <th>2</th>\n",
       "      <th>3</th>\n",
       "      <th>4</th>\n",
       "      <th>5</th>\n",
       "      <th>6</th>\n",
       "      <th>7</th>\n",
       "      <th>8</th>\n",
       "      <th>9</th>\n",
       "      <th>...</th>\n",
       "      <th>11</th>\n",
       "      <th>12</th>\n",
       "      <th>13</th>\n",
       "      <th>14</th>\n",
       "      <th>15</th>\n",
       "      <th>16</th>\n",
       "      <th>17</th>\n",
       "      <th>18</th>\n",
       "      <th>19</th>\n",
       "      <th>20</th>\n",
       "    </tr>\n",
       "  </thead>\n",
       "  <tbody>\n",
       "    <tr>\n",
       "      <th>0</th>\n",
       "      <td>1</td>\n",
       "      <td>CLE</td>\n",
       "      <td>Andrew Wiggins</td>\n",
       "      <td>University of Kansas</td>\n",
       "      <td>3</td>\n",
       "      <td>245</td>\n",
       "      <td>8862</td>\n",
       "      <td>4995</td>\n",
       "      <td>993</td>\n",
       "      <td>523</td>\n",
       "      <td>...</td>\n",
       "      <td>.329</td>\n",
       "      <td>.760</td>\n",
       "      <td>36.2</td>\n",
       "      <td>20.4</td>\n",
       "      <td>4.1</td>\n",
       "      <td>2.1</td>\n",
       "      <td>10.3</td>\n",
       "      <td>.056</td>\n",
       "      <td>-2.4</td>\n",
       "      <td>-0.8</td>\n",
       "    </tr>\n",
       "    <tr>\n",
       "      <th>1</th>\n",
       "      <td>2</td>\n",
       "      <td>MIL</td>\n",
       "      <td>Jabari Parker</td>\n",
       "      <td>Duke University</td>\n",
       "      <td>3</td>\n",
       "      <td>152</td>\n",
       "      <td>4874</td>\n",
       "      <td>2403</td>\n",
       "      <td>847</td>\n",
       "      <td>314</td>\n",
       "      <td>...</td>\n",
       "      <td>.341</td>\n",
       "      <td>.748</td>\n",
       "      <td>32.1</td>\n",
       "      <td>15.8</td>\n",
       "      <td>5.6</td>\n",
       "      <td>2.1</td>\n",
       "      <td>9.0</td>\n",
       "      <td>.088</td>\n",
       "      <td>-1.3</td>\n",
       "      <td>0.9</td>\n",
       "    </tr>\n",
       "    <tr>\n",
       "      <th>2</th>\n",
       "      <td>3</td>\n",
       "      <td>PHI</td>\n",
       "      <td>Joel Embiid</td>\n",
       "      <td>University of Kansas</td>\n",
       "      <td>1</td>\n",
       "      <td>31</td>\n",
       "      <td>786</td>\n",
       "      <td>627</td>\n",
       "      <td>243</td>\n",
       "      <td>66</td>\n",
       "      <td>...</td>\n",
       "      <td>.367</td>\n",
       "      <td>.783</td>\n",
       "      <td>25.4</td>\n",
       "      <td>20.2</td>\n",
       "      <td>7.8</td>\n",
       "      <td>2.1</td>\n",
       "      <td>1.9</td>\n",
       "      <td>.117</td>\n",
       "      <td>3.1</td>\n",
       "      <td>1.0</td>\n",
       "    </tr>\n",
       "    <tr>\n",
       "      <th>3</th>\n",
       "      <td>4</td>\n",
       "      <td>ORL</td>\n",
       "      <td>Aaron Gordon</td>\n",
       "      <td>University of Arizona</td>\n",
       "      <td>3</td>\n",
       "      <td>205</td>\n",
       "      <td>4958</td>\n",
       "      <td>1981</td>\n",
       "      <td>1081</td>\n",
       "      <td>311</td>\n",
       "      <td>...</td>\n",
       "      <td>.289</td>\n",
       "      <td>.699</td>\n",
       "      <td>24.2</td>\n",
       "      <td>9.7</td>\n",
       "      <td>5.3</td>\n",
       "      <td>1.5</td>\n",
       "      <td>10.1</td>\n",
       "      <td>.098</td>\n",
       "      <td>-0.1</td>\n",
       "      <td>2.4</td>\n",
       "    </tr>\n",
       "    <tr>\n",
       "      <th>4</th>\n",
       "      <td>5</td>\n",
       "      <td>UTA</td>\n",
       "      <td>Dante Exum</td>\n",
       "      <td></td>\n",
       "      <td>2</td>\n",
       "      <td>148</td>\n",
       "      <td>3045</td>\n",
       "      <td>805</td>\n",
       "      <td>263</td>\n",
       "      <td>309</td>\n",
       "      <td>...</td>\n",
       "      <td>.308</td>\n",
       "      <td>.743</td>\n",
       "      <td>20.6</td>\n",
       "      <td>5.4</td>\n",
       "      <td>1.8</td>\n",
       "      <td>2.1</td>\n",
       "      <td>1.1</td>\n",
       "      <td>.017</td>\n",
       "      <td>-3.3</td>\n",
       "      <td>-1.0</td>\n",
       "    </tr>\n",
       "  </tbody>\n",
       "</table>\n",
       "<p>5 rows × 21 columns</p>\n",
       "</div>"
      ],
      "text/plain": [
       "  0    1               2                      3  4    5     6     7     8   \\\n",
       "0  1  CLE  Andrew Wiggins   University of Kansas  3  245  8862  4995   993   \n",
       "1  2  MIL   Jabari Parker        Duke University  3  152  4874  2403   847   \n",
       "2  3  PHI     Joel Embiid   University of Kansas  1   31   786   627   243   \n",
       "3  4  ORL    Aaron Gordon  University of Arizona  3  205  4958  1981  1081   \n",
       "4  5  UTA      Dante Exum                         2  148  3045   805   263   \n",
       "\n",
       "    9   ...     11    12    13    14   15   16    17    18    19    20  \n",
       "0  523  ...   .329  .760  36.2  20.4  4.1  2.1  10.3  .056  -2.4  -0.8  \n",
       "1  314  ...   .341  .748  32.1  15.8  5.6  2.1   9.0  .088  -1.3   0.9  \n",
       "2   66  ...   .367  .783  25.4  20.2  7.8  2.1   1.9  .117   3.1   1.0  \n",
       "3  311  ...   .289  .699  24.2   9.7  5.3  1.5  10.1  .098  -0.1   2.4  \n",
       "4  309  ...   .308  .743  20.6   5.4  1.8  2.1   1.1  .017  -3.3  -1.0  \n",
       "\n",
       "[5 rows x 21 columns]"
      ]
     },
     "execution_count": 30,
     "metadata": {},
     "output_type": "execute_result"
    }
   ],
   "source": [
    "df.head()"
   ]
  },
  {
   "cell_type": "code",
   "execution_count": null,
   "metadata": {
    "collapsed": true
   },
   "outputs": [],
   "source": []
  }
 ],
 "metadata": {
  "kernelspec": {
   "display_name": "Python 3",
   "language": "python",
   "name": "python3"
  },
  "language_info": {
   "codemirror_mode": {
    "name": "ipython",
    "version": 3
   },
   "file_extension": ".py",
   "mimetype": "text/x-python",
   "name": "python",
   "nbconvert_exporter": "python",
   "pygments_lexer": "ipython3",
   "version": "3.6.1"
  }
 },
 "nbformat": 4,
 "nbformat_minor": 2
}
