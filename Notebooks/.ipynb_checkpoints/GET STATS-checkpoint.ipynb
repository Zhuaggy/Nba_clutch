{
 "cells": [
  {
   "cell_type": "code",
   "execution_count": 10,
   "metadata": {
    "collapsed": true
   },
   "outputs": [],
   "source": [
    "%matplotlib inline\n",
    "import nba_py as nba\n",
    "from nba_py import player\n",
    "import requests\n",
    "import pandas as pd\n",
    "import numpy as np\n",
    "import matplotlib.pyplot as plt\n",
    "import seaborn as sns\n",
    "from tqdm import tqdm\n",
    "import math\n",
    "from tqdm import tqdm"
   ]
  },
  {
   "cell_type": "code",
   "execution_count": 3,
   "metadata": {
    "collapsed": true
   },
   "outputs": [],
   "source": [
    "comb_df = pd.read_csv('july_25.csv')\n",
    "del comb_df['Unnamed: 0']"
   ]
  },
  {
   "cell_type": "code",
   "execution_count": 5,
   "metadata": {},
   "outputs": [
    {
     "data": {
      "text/plain": [
       "array(['1996-97', '1997-98', '2000-01', '1998-99', '1999-00', '2001-02',\n",
       "       '2002-03', '2003-04', '2004-05', '2005-06', '2006-07', '2007-08',\n",
       "       '2016-17', '2008-09', '2012-13', '2013-14', '2014-15', '2015-16',\n",
       "       '2010-11', '2011-12', '2009-10'], dtype=object)"
      ]
     },
     "execution_count": 5,
     "metadata": {},
     "output_type": "execute_result"
    }
   ],
   "source": [
    "comb_df['SEASON_ID'].unique()"
   ]
  },
  {
   "cell_type": "code",
   "execution_count": 9,
   "metadata": {},
   "outputs": [
    {
     "data": {
      "text/plain": [
       "'Syracuse'"
      ]
     },
     "execution_count": 9,
     "metadata": {},
     "output_type": "execute_result"
    }
   ],
   "source": [
    "player.PlayerSummary(2546).info().iloc[0]['SCHOOL']"
   ]
  },
  {
   "cell_type": "code",
   "execution_count": 12,
   "metadata": {
    "collapsed": true
   },
   "outputs": [
    {
     "name": "stderr",
     "output_type": "stream",
     "text": [
      "\n",
      "  0%|          | 0/1902 [00:00<?, ?it/s]\u001b[A\n",
      "  0%|          | 1/1902 [00:00<03:40,  8.62it/s]\u001b[A\n",
      "  0%|          | 2/1902 [00:00<03:36,  8.76it/s]\u001b[A\n",
      "  0%|          | 3/1902 [00:00<05:45,  5.49it/s]\u001b[A\n",
      "  0%|          | 4/1902 [00:00<07:32,  4.19it/s]\u001b[A\n",
      "  0%|          | 6/1902 [00:01<06:07,  5.15it/s]\u001b[A\n",
      "  0%|          | 7/1902 [00:01<05:14,  6.02it/s]\u001b[A\n",
      "  0%|          | 8/1902 [00:01<06:55,  4.56it/s]\u001b[A\n",
      "  1%|          | 10/1902 [00:01<05:48,  5.43it/s]\u001b[A\n",
      "  1%|          | 11/1902 [00:01<05:17,  5.96it/s]\u001b[A\n",
      "  1%|          | 12/1902 [00:01<04:39,  6.77it/s]\u001b[A\n",
      "  1%|          | 13/1902 [00:02<04:18,  7.30it/s]\u001b[A\n",
      "  1%|          | 14/1902 [00:02<05:36,  5.61it/s]\u001b[A\n",
      "  1%|          | 15/1902 [00:02<04:55,  6.39it/s]\u001b[A\n",
      "  1%|          | 17/1902 [00:02<04:24,  7.13it/s]\u001b[A\n",
      "  1%|          | 18/1902 [00:02<04:18,  7.28it/s]\u001b[A\n",
      "  1%|          | 19/1902 [00:02<03:58,  7.90it/s]\u001b[A\n",
      "  1%|          | 20/1902 [00:03<03:43,  8.41it/s]\u001b[A\n",
      "  1%|          | 21/1902 [00:03<03:33,  8.79it/s]\u001b[A\n",
      "  1%|          | 22/1902 [00:03<06:06,  5.13it/s]\u001b[A\n",
      "  1%|▏         | 24/1902 [00:04<07:06,  4.40it/s]\u001b[A\n",
      "  1%|▏         | 25/1902 [00:04<08:22,  3.73it/s]\u001b[A\n",
      "  1%|▏         | 26/1902 [00:04<07:03,  4.42it/s]\u001b[A\n",
      "  1%|▏         | 28/1902 [00:04<05:52,  5.31it/s]\u001b[A\n",
      "  2%|▏         | 30/1902 [00:05<05:01,  6.21it/s]\u001b[A\n",
      "  2%|▏         | 32/1902 [00:05<04:26,  7.02it/s]\u001b[A\n",
      "  2%|▏         | 33/1902 [00:05<04:56,  6.30it/s]\u001b[A\n",
      "  2%|▏         | 34/1902 [00:05<04:24,  7.06it/s]\u001b[A\n",
      "  2%|▏         | 35/1902 [00:05<04:16,  7.29it/s]\u001b[A\n",
      "  2%|▏         | 36/1902 [00:05<04:02,  7.69it/s]\u001b[A\n",
      "  2%|▏         | 38/1902 [00:05<03:42,  8.39it/s]\u001b[A\n",
      "100%|██████████| 1902/1902 [09:09<00:00,  2.25it/s]\n"
     ]
    }
   ],
   "source": [
    "gen_stats = [['PERSON_ID','SCHOOL', 'HEIGHT', 'WEIGHT', 'POSITION', 'DRAFT_NUMBER']]\n",
    "for pid in tqdm(comb_df['PERSON_ID'].unique()):\n",
    "    cur_player = player.PlayerSummary(pid).info()\n",
    "    gen_stats.append(pid,[cur_player.iloc[0]['SCHOOL'], cur_player.iloc[0]['HEIGHT'], \n",
    "                    cur_player.iloc[0]['WEIGHT'], cur_player.iloc[0]['POSITION'],\n",
    "                     cur_player.iloc[0]['DRAFT_NUMBER']])\n",
    "gen_df = pd.DataFrame(gen_stats)"
   ]
  },
  {
   "cell_type": "code",
   "execution_count": 17,
   "metadata": {
    "collapsed": true
   },
   "outputs": [],
   "source": [
    "gen_df = pd.DataFrame(gen_stats)"
   ]
  },
  {
   "cell_type": "code",
   "execution_count": null,
   "metadata": {
    "collapsed": true
   },
   "outputs": [],
   "source": []
  },
  {
   "cell_type": "code",
   "execution_count": null,
   "metadata": {
    "collapsed": true
   },
   "outputs": [],
   "source": []
  },
  {
   "cell_type": "code",
   "execution_count": null,
   "metadata": {},
   "outputs": [
    {
     "name": "stderr",
     "output_type": "stream",
     "text": [
      " 52%|█████▏    | 228/440 [08:05<06:59,  1.98s/it]"
     ]
    }
   ],
   "source": [
    "sa_years = comb_df['SEASON_ID'].unique()\n",
    "temp_list = [['PERSON_ID','SEASON_ID','AOP_FGA', 'AOP_FG_PCT', 'Bank_FGA', 'Bank_FG_PCT', 'DUNK_FGA','DUNK_FG_PCT',\n",
    "             'FADE_FGA','FADE_FG_PCT','FGR_FGA','FGR_FG_PCT','HOOK_FGA','HOOK_FG_PCT','JS_FGA','JS_FG_PCT',\n",
    "             'LAY_FGA','LAY_FG_PCT', 'TIP_FGA', 'TIP_FG_PCT']]\n",
    "for year in sa_years:\n",
    "    cur_df = comb_df[comb_df['SEASON_ID'] == year]\n",
    "    for pid in tqdm(cur_df['PERSON_ID'].unique()):\n",
    "        pss = player.PlayerShootingSplits(pid, season=year).shot_types_summary()\n",
    "        cur_list = []\n",
    "        if pss.empty == False and len(pss) == 9:\n",
    "            cur_list.append(pid)\n",
    "            cur_list.append(year)\n",
    "            for i in range(9):\n",
    "                cur_list.append(pss.iloc[i][3])\n",
    "                cur_list.append(pss.iloc[i][4])\n",
    "            temp_list.append(cur_list)\n",
    "sts_df = pd.DataFrame(temp_list)"
   ]
  },
  {
   "cell_type": "code",
   "execution_count": null,
   "metadata": {
    "collapsed": true
   },
   "outputs": [],
   "source": [
    "gen_stats = [['PERSON_ID','SCHOOL', 'HEIGHT', 'WEIGHT', 'POSITION', 'DRAFT_NUMBER']]\n",
    "for pid in tqdm(comb_df['PERSON_ID'].unique()):\n",
    "    cur_player = player.PlayerSummary(pid).info()\n",
    "    gen_stats.append(pid,[cur_player.iloc[0]['SCHOOL'], cur_player.iloc[0]['HEIGHT'], \n",
    "                    cur_player.iloc[0]['WEIGHT'], cur_player.iloc[0]['POSITION'],\n",
    "                     cur_player.iloc[0]['DRAFT_NUMBER']])\n",
    "gen_df = pd.DataFrame(gen_stats)"
   ]
  },
  {
   "cell_type": "code",
   "execution_count": null,
   "metadata": {
    "collapsed": true
   },
   "outputs": [],
   "source": [
    "sts_df.to_csv('temp1_deletethis.csv')\n",
    "gen_df.to_csv('temp2_deletethis2.csv')"
   ]
  },
  {
   "cell_type": "code",
   "execution_count": null,
   "metadata": {
    "collapsed": true
   },
   "outputs": [],
   "source": []
  },
  {
   "cell_type": "code",
   "execution_count": null,
   "metadata": {
    "collapsed": true
   },
   "outputs": [],
   "source": []
  }
 ],
 "metadata": {
  "kernelspec": {
   "display_name": "Python 3",
   "language": "python",
   "name": "python3"
  },
  "language_info": {
   "codemirror_mode": {
    "name": "ipython",
    "version": 3
   },
   "file_extension": ".py",
   "mimetype": "text/x-python",
   "name": "python",
   "nbconvert_exporter": "python",
   "pygments_lexer": "ipython3",
   "version": "3.6.1"
  }
 },
 "nbformat": 4,
 "nbformat_minor": 2
}
