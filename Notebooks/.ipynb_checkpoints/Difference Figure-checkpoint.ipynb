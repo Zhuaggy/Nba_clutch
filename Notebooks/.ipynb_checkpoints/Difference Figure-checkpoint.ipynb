{
 "cells": [
  {
   "cell_type": "code",
   "execution_count": 1,
   "metadata": {
    "collapsed": true
   },
   "outputs": [],
   "source": [
    "%matplotlib inline\n",
    "import nba_py as nba\n",
    "from nba_py import player\n",
    "import requests\n",
    "import pandas as pd\n",
    "import numpy as np\n",
    "import matplotlib.pyplot as plt\n",
    "import seaborn as sns\n",
    "import tqdm\n",
    "import math"
   ]
  },
  {
   "cell_type": "code",
   "execution_count": 3,
   "metadata": {
    "collapsed": true
   },
   "outputs": [],
   "source": [
    "df = pd.read_csv('all_players.csv')"
   ]
  },
  {
   "cell_type": "code",
   "execution_count": 13,
   "metadata": {},
   "outputs": [
    {
     "data": {
      "text/plain": [
       "<matplotlib.axes._subplots.AxesSubplot at 0x11b439080>"
      ]
     },
     "execution_count": 13,
     "metadata": {},
     "output_type": "execute_result"
    },
    {
     "data": {
      "image/png": "[encoded data removed]",
      "text/plain": [
       "<matplotlib.figure.Figure at 0x11a568668>"
      ]
     },
     "metadata": {},
     "output_type": "display_data"
    }
   ],
   "source": [
    "df.boxplot(['PO_FG_PCT','SC_FG_PCT','FG_PCT'])"
   ]
  },
  {
   "cell_type": "code",
   "execution_count": null,
   "metadata": {
    "collapsed": true
   },
   "outputs": [],
   "source": []
  },
  {
   "cell_type": "code",
   "execution_count": 12,
   "metadata": {},
   "outputs": [
    {
     "data": {
      "text/plain": [
       "<matplotlib.axes._subplots.AxesSubplot at 0x11b2bc6a0>"
      ]
     },
     "execution_count": 12,
     "metadata": {},
     "output_type": "execute_result"
    },
    {
     "data": {
      "image/png": "[encoded data removed]",
      "text/plain": [
       "<matplotlib.figure.Figure at 0x11a428f28>"
      ]
     },
     "metadata": {},
     "output_type": "display_data"
    }
   ],
   "source": [
    "cur_df = df[df['FG3_PCT'] != 0]\n",
    "cur_df = cur_df[cur_df['SC_FG3_PCT'] != 0]\n",
    "cur_df[cur_df['PO_FG3_PCT'] != 0].boxplot(['PO_FG3_PCT','SC_FG3_PCT','FG3_PCT'])"
   ]
  },
  {
   "cell_type": "code",
   "execution_count": 10,
   "metadata": {},
   "outputs": [
    {
     "data": {
      "text/plain": [
       "<matplotlib.axes._subplots.AxesSubplot at 0x11ac4a7f0>"
      ]
     },
     "execution_count": 10,
     "metadata": {},
     "output_type": "execute_result"
    },
    {
     "data": {
      "image/png": "[encoded data removed]",
      "text/plain": [
       "<matplotlib.figure.Figure at 0x11a8c6080>"
      ]
     },
     "metadata": {},
     "output_type": "display_data"
    }
   ],
   "source": [
    "df.boxplot(['FT_PCT','PO_FT_PCT','4Q_FT_PCT'])"
   ]
  },
  {
   "cell_type": "code",
   "execution_count": 16,
   "metadata": {
    "collapsed": true
   },
   "outputs": [],
   "source": [
    "df['SC_FG_PCT_DIFF'] = df['FG_PCT'] - df['SC_FG_PCT']\n",
    "df['SC_FG3_PCT_DIFF'] = df['FG3_PCT'] - df['SC_FG3_PCT']\n",
    "df['PO_FT_PCT_DIFF'] = df['FT_PCT'] - df['PO_FT_PCT']\n",
    "df['4Q_FT_PCT_DIFF'] = df['FT_PCT'] - df['4Q_FT_PCT']\n",
    "df['SEASON_ID'] = df['GROUP_VALUE']"
   ]
  },
  {
   "cell_type": "code",
   "execution_count": 18,
   "metadata": {
    "collapsed": true
   },
   "outputs": [],
   "source": [
    "df2 = df[['SEASON_ID', 'PERSON_ID', 'SC_FG_PCT_DIFF', 'SC_FG3_PCT_DIFF',\n",
    "       'PO_FT_PCT_DIFF', '4Q_FT_PCT_DIFF','FG_PCT', 'FG3_PCT', 'FT_PCT', 'OREB',\n",
    "       'DREB', 'REB', 'AST', 'TOV', 'STL', 'BLK']]"
   ]
  },
  {
   "cell_type": "code",
   "execution_count": 27,
   "metadata": {
    "collapsed": true
   },
   "outputs": [],
   "source": [
    "def get_reg_season_totals(p_id):\n",
    "    rt_df1 = player.PlayerCareer(p_id, per_mode = 'PerGame').regular_season_totals()[['PLAYER_ID','SEASON_ID',\n",
    "                                                                          'PLAYER_AGE','MIN']]\n",
    "    if rt_df1.empty:\n",
    "        return None\n",
    "    else:\n",
    "        rt_df1 = rt_df1.groupby(['PLAYER_ID','SEASON_ID']).mean()\n",
    "        rt_df1 = rt_df1.reset_index()\n",
    "        rt_df2 = player.PlayerCareer(p_id, per_mode = 'PerGame').regular_season_totals()[['PLAYER_ID','SEASON_ID',\n",
    "                                                                              'GP','GS','TEAM_ID']]\n",
    "        rt_df2 = rt_df2[rt_df2['TEAM_ID'] != 0]\n",
    "        rt_df2 = rt_df2[['PLAYER_ID','SEASON_ID','GP','GS']]\n",
    "        rt_df2 = rt_df2.groupby(['PLAYER_ID','SEASON_ID']).sum()\n",
    "        rt_df2 = rt_df2.reset_index()\n",
    "\n",
    "        rt_df = pd.merge(rt_df1, rt_df2, how = 'left', on = ['PLAYER_ID','SEASON_ID'])\n",
    "        return (rt_df)"
   ]
  },
  {
   "cell_type": "code",
   "execution_count": 28,
   "metadata": {},
   "outputs": [
    {
     "name": "stderr",
     "output_type": "stream",
     "text": [
      "\n",
      "  0%|          | 0/4225 [00:00<?, ?it/s]\u001b[A\n",
      "  0%|          | 1/4225 [00:00<13:20,  5.28it/s]\u001b[A\n",
      "  0%|          | 2/4225 [00:00<13:24,  5.25it/s]\u001b[A\n",
      "  0%|          | 3/4225 [00:00<13:32,  5.20it/s]\u001b[A\n",
      "  0%|          | 4/4225 [00:00<13:43,  5.12it/s]\u001b[A\n",
      "  0%|          | 5/4225 [00:01<15:29,  4.54it/s]\u001b[A\n",
      "100%|██████████| 4225/4225 [1:05:49<00:00,  1.13s/it]\n"
     ]
    }
   ],
   "source": [
    "plist = player.PlayerList(league_id='00', only_current = '0')\n",
    "player_ids = plist.info()['PERSON_ID']\n",
    "main_df = pd.DataFrame()\n",
    "for cur_player in tqdm.tqdm(player_ids.values):\n",
    "    cur_df = get_reg_season_totals(cur_player)\n",
    "    if cur_df is not None:\n",
    "        main_df = main_df.append(cur_df)"
   ]
  },
  {
   "cell_type": "code",
   "execution_count": 39,
   "metadata": {
    "collapsed": true
   },
   "outputs": [],
   "source": [
    "main_df.columns = ['GP','GS','AVG_MIN','AGE','PERSON_ID','SEASON_ID']\n",
    "comb_df = pd.merge(df2,main_df, how = 'left', on = ['PERSON_ID','SEASON_ID'])\n"
   ]
  },
  {
   "cell_type": "code",
   "execution_count": 40,
   "metadata": {},
   "outputs": [
    {
     "data": {
      "text/html": [
       "<div>\n",
       "<style>\n",
       "    .dataframe thead tr:only-child th {\n",
       "        text-align: right;\n",
       "    }\n",
       "\n",
       "    .dataframe thead th {\n",
       "        text-align: left;\n",
       "    }\n",
       "\n",
       "    .dataframe tbody tr th {\n",
       "        vertical-align: top;\n",
       "    }\n",
       "</style>\n",
       "<table border=\"1\" class=\"dataframe\">\n",
       "  <thead>\n",
       "    <tr style=\"text-align: right;\">\n",
       "      <th></th>\n",
       "      <th>SEASON_ID</th>\n",
       "      <th>PERSON_ID</th>\n",
       "      <th>SC_FG_PCT_DIFF</th>\n",
       "      <th>SC_FG3_PCT_DIFF</th>\n",
       "      <th>PO_FT_PCT_DIFF</th>\n",
       "      <th>4Q_FT_PCT_DIFF</th>\n",
       "      <th>FG_PCT</th>\n",
       "      <th>FG3_PCT</th>\n",
       "      <th>FT_PCT</th>\n",
       "      <th>OREB</th>\n",
       "      <th>DREB</th>\n",
       "      <th>REB</th>\n",
       "      <th>AST</th>\n",
       "      <th>TOV</th>\n",
       "      <th>STL</th>\n",
       "      <th>BLK</th>\n",
       "      <th>GP</th>\n",
       "      <th>GS</th>\n",
       "      <th>AVG_MIN</th>\n",
       "      <th>AGE</th>\n",
       "    </tr>\n",
       "  </thead>\n",
       "  <tbody>\n",
       "    <tr>\n",
       "      <th>0</th>\n",
       "      <td>1996-97</td>\n",
       "      <td>51</td>\n",
       "      <td>NaN</td>\n",
       "      <td>NaN</td>\n",
       "      <td>NaN</td>\n",
       "      <td>0.059</td>\n",
       "      <td>0.445</td>\n",
       "      <td>0.382</td>\n",
       "      <td>0.846</td>\n",
       "      <td>0.2</td>\n",
       "      <td>1.4</td>\n",
       "      <td>1.6</td>\n",
       "      <td>2.5</td>\n",
       "      <td>1.6</td>\n",
       "      <td>0.7</td>\n",
       "      <td>0.1</td>\n",
       "      <td>75</td>\n",
       "      <td>51.0</td>\n",
       "      <td>28.4</td>\n",
       "      <td>28.0</td>\n",
       "    </tr>\n",
       "    <tr>\n",
       "      <th>1</th>\n",
       "      <td>1997-98</td>\n",
       "      <td>51</td>\n",
       "      <td>NaN</td>\n",
       "      <td>NaN</td>\n",
       "      <td>NaN</td>\n",
       "      <td>0.000</td>\n",
       "      <td>0.377</td>\n",
       "      <td>0.161</td>\n",
       "      <td>1.000</td>\n",
       "      <td>0.2</td>\n",
       "      <td>1.0</td>\n",
       "      <td>1.2</td>\n",
       "      <td>1.9</td>\n",
       "      <td>0.6</td>\n",
       "      <td>0.5</td>\n",
       "      <td>0.0</td>\n",
       "      <td>31</td>\n",
       "      <td>0.0</td>\n",
       "      <td>17.1</td>\n",
       "      <td>29.0</td>\n",
       "    </tr>\n",
       "    <tr>\n",
       "      <th>2</th>\n",
       "      <td>2000-01</td>\n",
       "      <td>51</td>\n",
       "      <td>NaN</td>\n",
       "      <td>NaN</td>\n",
       "      <td>NaN</td>\n",
       "      <td>-0.027</td>\n",
       "      <td>0.488</td>\n",
       "      <td>0.286</td>\n",
       "      <td>0.759</td>\n",
       "      <td>0.1</td>\n",
       "      <td>0.5</td>\n",
       "      <td>0.6</td>\n",
       "      <td>1.9</td>\n",
       "      <td>0.6</td>\n",
       "      <td>0.2</td>\n",
       "      <td>0.0</td>\n",
       "      <td>41</td>\n",
       "      <td>0.0</td>\n",
       "      <td>11.8</td>\n",
       "      <td>32.0</td>\n",
       "    </tr>\n",
       "    <tr>\n",
       "      <th>3</th>\n",
       "      <td>1997-98</td>\n",
       "      <td>1505</td>\n",
       "      <td>NaN</td>\n",
       "      <td>NaN</td>\n",
       "      <td>NaN</td>\n",
       "      <td>-0.018</td>\n",
       "      <td>0.403</td>\n",
       "      <td>0.211</td>\n",
       "      <td>0.672</td>\n",
       "      <td>0.7</td>\n",
       "      <td>1.2</td>\n",
       "      <td>2.0</td>\n",
       "      <td>0.9</td>\n",
       "      <td>1.1</td>\n",
       "      <td>0.6</td>\n",
       "      <td>0.2</td>\n",
       "      <td>59</td>\n",
       "      <td>16.0</td>\n",
       "      <td>16.3</td>\n",
       "      <td>23.0</td>\n",
       "    </tr>\n",
       "    <tr>\n",
       "      <th>4</th>\n",
       "      <td>1998-99</td>\n",
       "      <td>1505</td>\n",
       "      <td>NaN</td>\n",
       "      <td>NaN</td>\n",
       "      <td>-0.122</td>\n",
       "      <td>0.491</td>\n",
       "      <td>0.435</td>\n",
       "      <td>0.286</td>\n",
       "      <td>0.691</td>\n",
       "      <td>1.5</td>\n",
       "      <td>2.3</td>\n",
       "      <td>3.8</td>\n",
       "      <td>1.0</td>\n",
       "      <td>1.4</td>\n",
       "      <td>1.0</td>\n",
       "      <td>0.3</td>\n",
       "      <td>49</td>\n",
       "      <td>49.0</td>\n",
       "      <td>24.6</td>\n",
       "      <td>24.0</td>\n",
       "    </tr>\n",
       "  </tbody>\n",
       "</table>\n",
       "</div>"
      ],
      "text/plain": [
       "  SEASON_ID  PERSON_ID  SC_FG_PCT_DIFF  SC_FG3_PCT_DIFF  PO_FT_PCT_DIFF  \\\n",
       "0   1996-97         51             NaN              NaN             NaN   \n",
       "1   1997-98         51             NaN              NaN             NaN   \n",
       "2   2000-01         51             NaN              NaN             NaN   \n",
       "3   1997-98       1505             NaN              NaN             NaN   \n",
       "4   1998-99       1505             NaN              NaN          -0.122   \n",
       "\n",
       "   4Q_FT_PCT_DIFF  FG_PCT  FG3_PCT  FT_PCT  OREB  DREB  REB  AST  TOV  STL  \\\n",
       "0           0.059   0.445    0.382   0.846   0.2   1.4  1.6  2.5  1.6  0.7   \n",
       "1           0.000   0.377    0.161   1.000   0.2   1.0  1.2  1.9  0.6  0.5   \n",
       "2          -0.027   0.488    0.286   0.759   0.1   0.5  0.6  1.9  0.6  0.2   \n",
       "3          -0.018   0.403    0.211   0.672   0.7   1.2  2.0  0.9  1.1  0.6   \n",
       "4           0.491   0.435    0.286   0.691   1.5   2.3  3.8  1.0  1.4  1.0   \n",
       "\n",
       "   BLK  GP    GS  AVG_MIN   AGE  \n",
       "0  0.1  75  51.0     28.4  28.0  \n",
       "1  0.0  31   0.0     17.1  29.0  \n",
       "2  0.0  41   0.0     11.8  32.0  \n",
       "3  0.2  59  16.0     16.3  23.0  \n",
       "4  0.3  49  49.0     24.6  24.0  "
      ]
     },
     "execution_count": 40,
     "metadata": {},
     "output_type": "execute_result"
    }
   ],
   "source": [
    "comb_df.head()"
   ]
  },
  {
   "cell_type": "code",
   "execution_count": 31,
   "metadata": {
    "collapsed": true
   },
   "outputs": [],
   "source": [
    "from sklearn.pipeline import Pipeline\n",
    "from sklearn.model_selection import train_test_split\n",
    "from sklearn.model_selection import cross_val_score\n",
    "from sklearn.ensemble import RandomForestRegressor\n",
    "from sklearn.ensemble import RandomForestClassifier"
   ]
  },
  {
   "cell_type": "markdown",
   "metadata": {},
   "source": [
    "TRY ANOTHER MODEL YEEEHHYYY!"
   ]
  },
  {
   "cell_type": "code",
   "execution_count": 46,
   "metadata": {
    "collapsed": true
   },
   "outputs": [],
   "source": [
    "total_df = comb_df[['SEASON_ID', 'PERSON_ID', 'FG_PCT',\n",
    "       'FG3_PCT', 'FT_PCT', 'OREB', 'DREB', 'REB', 'AST', 'TOV', 'STL', 'BLK',\n",
    "       'AGE', 'GP', 'GS', 'AVG_MIN','SC_FG_PCT_DIFF']]\n",
    "total_df = total_df.dropna()"
   ]
  },
  {
   "cell_type": "code",
   "execution_count": 49,
   "metadata": {
    "collapsed": true
   },
   "outputs": [],
   "source": [
    "target = total_df['SC_FG_PCT_DIFF']\n",
    "\n",
    "features = total_df[['PERSON_ID', 'FG_PCT',\n",
    "       'FG3_PCT', 'FT_PCT', 'OREB', 'DREB', 'REB', 'AST', 'TOV', 'STL', 'BLK',\n",
    "       'AGE', 'GP', 'GS', 'AVG_MIN']]\n",
    "X_train, X_test, y_train, y_test = train_test_split(features, target, test_size=0.33, random_state=4)"
   ]
  },
  {
   "cell_type": "code",
   "execution_count": 50,
   "metadata": {},
   "outputs": [
    {
     "data": {
      "text/plain": [
       "RandomForestRegressor(bootstrap=True, criterion='mse', max_depth=None,\n",
       "           max_features='auto', max_leaf_nodes=None,\n",
       "           min_impurity_split=1e-07, min_samples_leaf=1,\n",
       "           min_samples_split=2, min_weight_fraction_leaf=0.0,\n",
       "           n_estimators=100, n_jobs=1, oob_score=False, random_state=0,\n",
       "           verbose=0, warm_start=False)"
      ]
     },
     "execution_count": 50,
     "metadata": {},
     "output_type": "execute_result"
    }
   ],
   "source": [
    "estimator = RandomForestRegressor(random_state=0, n_estimators=100)\n",
    "estimator.fit(X_train, y_train)"
   ]
  },
  {
   "cell_type": "code",
   "execution_count": 51,
   "metadata": {
    "collapsed": true
   },
   "outputs": [],
   "source": [
    "df_results = pd.DataFrame()\n",
    "df_results['prediction'] = estimator.predict(X_test)\n",
    "df_results['actual'] = y_test.values"
   ]
  },
  {
   "cell_type": "code",
   "execution_count": 63,
   "metadata": {
    "collapsed": true
   },
   "outputs": [],
   "source": [
    "def to_category_1(x):\n",
    "    if x <= 0:\n",
    "        return (1)\n",
    "    else:\n",
    "        return (0)\n",
    "\n",
    "def to_category_2(x):\n",
    "    if x <= 0.1:\n",
    "        return (1)\n",
    "    else:\n",
    "        return (0)"
   ]
  },
  {
   "cell_type": "code",
   "execution_count": 64,
   "metadata": {
    "collapsed": true
   },
   "outputs": [],
   "source": [
    "df_results['abs_error'] = abs(df_results['actual'] - df_results['prediction'])\n",
    "df_results['pct_error'] = df_results['abs_error']/df_results['actual']\n",
    "df_results['prediction_cat'] = df_results['prediction'].apply(to_category_2)\n",
    "df_results['actual_cat'] = df_results['actual'].apply(to_category_1)\n",
    "df_results['cat_error'] = abs(df_results['actual_cat'] - df_results['prediction_cat'])\n",
    "df_results['non_abs_cat_error'] = df_results['actual_cat'] - df_results['prediction_cat']"
   ]
  },
  {
   "cell_type": "code",
   "execution_count": 65,
   "metadata": {},
   "outputs": [
    {
     "name": "stdout",
     "output_type": "stream",
     "text": [
      "abs cat error: 0.47216494845360824\n",
      "non abs cat error: -0.27835051546391754\n",
      "number of actual clutch correct: 0.4845360824742268\n",
      "number of chokers correct: 0.4690721649484536\n",
      "number of actual clutch: 97\n",
      "number of predicted clutch: 232\n"
     ]
    }
   ],
   "source": [
    "print('abs cat error: ' + str(df_results['cat_error'].mean()))\n",
    "print('non abs cat error: ' + str(df_results['non_abs_cat_error'].mean()))\n",
    "print('number of actual clutch correct: ' + str(df_results[df_results['actual_cat'] == 1]['cat_error'].mean()))\n",
    "print('number of chokers correct: ' + str(df_results[df_results['actual_cat'] == 0]['cat_error'].mean()))\n",
    "print('number of actual clutch: ' + str(df_results['actual_cat'].sum()))\n",
    "print('number of predicted clutch: ' + str(df_results['prediction_cat'].sum()))"
   ]
  },
  {
   "cell_type": "code",
   "execution_count": 61,
   "metadata": {},
   "outputs": [
    {
     "data": {
      "text/plain": [
       "<matplotlib.axes._subplots.AxesSubplot at 0x11aec0d30>"
      ]
     },
     "execution_count": 61,
     "metadata": {},
     "output_type": "execute_result"
    },
    {
     "data": {
      "image/png": "[encoded data removed]",
      "text/plain": [
       "<matplotlib.figure.Figure at 0x11aeba390>"
      ]
     },
     "metadata": {},
     "output_type": "display_data"
    }
   ],
   "source": [
    "df_results['actual'].plot(kind = 'hist', bins = 20)"
   ]
  },
  {
   "cell_type": "code",
   "execution_count": 62,
   "metadata": {},
   "outputs": [
    {
     "data": {
      "text/plain": [
       "<matplotlib.axes._subplots.AxesSubplot at 0x11ae4dba8>"
      ]
     },
     "execution_count": 62,
     "metadata": {},
     "output_type": "execute_result"
    },
    {
     "data": {
      "image/png": "[encoded data removed]",
      "text/plain": [
       "<matplotlib.figure.Figure at 0x116f79748>"
      ]
     },
     "metadata": {},
     "output_type": "display_data"
    }
   ],
   "source": [
    "df_results['prediction'].plot(kind = 'hist', bins = 20)"
   ]
  },
  {
   "cell_type": "code",
   "execution_count": null,
   "metadata": {
    "collapsed": true
   },
   "outputs": [],
   "source": []
  }
 ],
 "metadata": {
  "kernelspec": {
   "display_name": "Python 3",
   "language": "python",
   "name": "python3"
  },
  "language_info": {
   "codemirror_mode": {
    "name": "ipython",
    "version": 3
   },
   "file_extension": ".py",
   "mimetype": "text/x-python",
   "name": "python",
   "nbconvert_exporter": "python",
   "pygments_lexer": "ipython3",
   "version": "3.6.1"
  }
 },
 "nbformat": 4,
 "nbformat_minor": 2
}
