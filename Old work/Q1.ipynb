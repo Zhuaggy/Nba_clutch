{
 "cells": [
  {
   "cell_type": "code",
   "execution_count": 1,
   "metadata": {
    "collapsed": true
   },
   "outputs": [],
   "source": [
    "import numpy as np"
   ]
  },
  {
   "cell_type": "code",
   "execution_count": 2,
   "metadata": {
    "collapsed": false
   },
   "outputs": [
    {
     "data": {
      "text/plain": [
       "array([1, 2, 3, 4, 5, 6, 7, 8, 9])"
      ]
     },
     "execution_count": 2,
     "metadata": {},
     "output_type": "execute_result"
    }
   ],
   "source": [
    "b = np.arange(1,10)\n",
    "b"
   ]
  },
  {
   "cell_type": "code",
   "execution_count": 3,
   "metadata": {
    "collapsed": false
   },
   "outputs": [
    {
     "data": {
      "text/plain": [
       "[(1, 2, 3), (1, 3, 2), (2, 1, 3), (2, 3, 1), (3, 1, 2), (3, 2, 1)]"
      ]
     },
     "execution_count": 3,
     "metadata": {},
     "output_type": "execute_result"
    }
   ],
   "source": [
    "import itertools\n",
    "a = itertools.permutations([1, 2, 3])\n",
    "list(a)"
   ]
  },
  {
   "cell_type": "code",
   "execution_count": 11,
   "metadata": {
    "collapsed": false
   },
   "outputs": [],
   "source": [
    "means = []\n",
    "stds = []"
   ]
  },
  {
   "cell_type": "code",
   "execution_count": 57,
   "metadata": {
    "collapsed": false
   },
   "outputs": [
    {
     "name": "stderr",
     "output_type": "stream",
     "text": [
      "Exception ignored in: <object repr() failed>\n",
      "Traceback (most recent call last):\n",
      "  File \"/Users/andrewzhuang/anaconda/lib/python3.6/site-packages/tqdm/_tqdm.py\", line 764, in __del__\n",
      "    self.close()\n",
      "  File \"/Users/andrewzhuang/anaconda/lib/python3.6/site-packages/tqdm/_tqdm.py\", line 994, in close\n",
      "    if self.disable:\n",
      "AttributeError: 'tqdm' object has no attribute 'disable'\n",
      "\n",
      "Exception ignored in: <object repr() failed>\n",
      "Traceback (most recent call last):\n",
      "  File \"/Users/andrewzhuang/anaconda/lib/python3.6/site-packages/tqdm/_tqdm.py\", line 764, in __del__\n",
      "    self.close()\n",
      "  File \"/Users/andrewzhuang/anaconda/lib/python3.6/site-packages/tqdm/_tqdm.py\", line 1001, in close\n",
      "    pos = self.pos\n",
      "AttributeError: 'tqdm' object has no attribute 'pos'\n",
      "Exception ignored in: <object repr() failed>\n",
      "Traceback (most recent call last):\n",
      "  File \"/Users/andrewzhuang/anaconda/lib/python3.6/site-packages/tqdm/_tqdm.py\", line 764, in __del__\n",
      "    self.close()\n",
      "  File \"/Users/andrewzhuang/anaconda/lib/python3.6/site-packages/tqdm/_tqdm.py\", line 1001, in close\n",
      "    pos = self.pos\n",
      "AttributeError: 'tqdm' object has no attribute 'pos'\n",
      "100%|██████████| 3628800/3628800 [00:18<00:00, 194392.16it/s]\n"
     ]
    },
    {
     "name": "stdout",
     "output_type": "stream",
     "text": [
      "38.5\n",
      "6.365271230040156\n",
      "0.1817956349206349\n"
     ]
    }
   ],
   "source": [
    "import itertools\n",
    "import pandas as pd\n",
    "import tqdm\n",
    "\n",
    "perm_list = []\n",
    "\n",
    "a = [list(p) for p in itertools.permutations([1, 2, 3, 4, 5, 6, 7, 8, 9, 10])]\n",
    "for i in tqdm.tqdm(range(len(a))):\n",
    "    total = a[i][0]\n",
    "    for j in range(1,len(a[i])):\n",
    "        total += abs(a[i][j-1] - a[i][j])\n",
    "    perm_list.append(total)\n",
    "\n",
    "print(pd.Series(perm_list).mean())\n",
    "print(pd.Series(perm_list).std())\n",
    "\n",
    "srs = pd.Series(perm_list)\n",
    "prob = len(srs[srs >= 45])/len(srs)\n",
    "print (prob)\n",
    "\n",
    "means.append(pd.Series(perm_list).mean())\n",
    "stds.append(pd.Series(perm_list).std())"
   ]
  },
  {
   "cell_type": "code",
   "execution_count": 65,
   "metadata": {
    "collapsed": false
   },
   "outputs": [],
   "source": [
    "means = []\n",
    "stds = []\n",
    "probs = []"
   ]
  },
  {
   "cell_type": "code",
   "execution_count": 80,
   "metadata": {
    "collapsed": false
   },
   "outputs": [
    {
     "name": "stdout",
     "output_type": "stream",
     "text": [
      "143.51443999999998\n",
      "18.460778826777833\n",
      "0.19873000000000002\n"
     ]
    }
   ],
   "source": [
    "import pandas as pd\n",
    "import tqdm\n",
    "import numpy as np\n",
    "\n",
    "means = []\n",
    "stds = []\n",
    "probs = []\n",
    "\n",
    "for loop in range(10):\n",
    "    perm_list = []\n",
    "    for i in range(10000):\n",
    "        a = list(np.random.permutation([1,2,3,4,5,6,7,8,9,10,11,12,13,14,15,16,17,18,19,20]))\n",
    "        total = a[0]\n",
    "        for j in range(1,len(a)):\n",
    "            total += abs(a[j-1] - a[j])\n",
    "        perm_list.append(total)\n",
    "\n",
    "    srs = pd.Series(perm_list)\n",
    "    prob = len(srs[srs >= 160])/len(srs)\n",
    "\n",
    "    means.append(pd.Series(perm_list).mean())\n",
    "    stds.append(pd.Series(perm_list).std())\n",
    "    probs.append(prob)\n",
    "\n",
    "print(pd.Series(means).mean())\n",
    "print(pd.Series(stds).mean())\n",
    "print(pd.Series(probs).mean())"
   ]
  },
  {
   "cell_type": "code",
   "execution_count": 79,
   "metadata": {
    "collapsed": false
   },
   "outputs": [
    {
     "ename": "AttributeError",
     "evalue": "'list' object has no attribute 'mean'",
     "output_type": "error",
     "traceback": [
      "\u001b[0;31m---------------------------------------------------------------------------\u001b[0m",
      "\u001b[0;31mAttributeError\u001b[0m                            Traceback (most recent call last)",
      "\u001b[0;32m<ipython-input-79-425ba2d0b460>\u001b[0m in \u001b[0;36m<module>\u001b[0;34m()\u001b[0m\n\u001b[0;32m----> 1\u001b[0;31m \u001b[0mmeans\u001b[0m\u001b[0;34m.\u001b[0m\u001b[0mmean\u001b[0m\u001b[0;34m(\u001b[0m\u001b[0;34m)\u001b[0m\u001b[0;34m\u001b[0m\u001b[0m\n\u001b[0m",
      "\u001b[0;31mAttributeError\u001b[0m: 'list' object has no attribute 'mean'"
     ]
    }
   ],
   "source": [
    "pd.means"
   ]
  },
  {
   "cell_type": "code",
   "execution_count": 77,
   "metadata": {
    "collapsed": false
   },
   "outputs": [
    {
     "data": {
      "text/plain": [
       "[18.084894915160813,\n",
       " 18.296236158996162,\n",
       " 18.42277787372082,\n",
       " 18.526676595778344,\n",
       " 18.39460793602605,\n",
       " 18.560100721005885,\n",
       " 18.65407395711514,\n",
       " 18.617856587115213,\n",
       " 18.59276311052256,\n",
       " 18.451176568221186]"
      ]
     },
     "execution_count": 77,
     "metadata": {},
     "output_type": "execute_result"
    }
   ],
   "source": [
    "stds"
   ]
  },
  {
   "cell_type": "code",
   "execution_count": 78,
   "metadata": {
    "collapsed": false
   },
   "outputs": [
    {
     "data": {
      "text/plain": [
       "[0.1952, 0.1887, 0.1968, 0.1967, 0.1948, 0.195, 0.2038, 0.1996, 0.1998, 0.2008]"
      ]
     },
     "execution_count": 78,
     "metadata": {},
     "output_type": "execute_result"
    }
   ],
   "source": [
    "probs"
   ]
  },
  {
   "cell_type": "code",
   "execution_count": 81,
   "metadata": {
    "collapsed": false
   },
   "outputs": [
    {
     "name": "stdout",
     "output_type": "stream",
     "text": [
      "38.5\n",
      "6.365271230040156\n",
      "0.1817956349206349\n",
      "143.44734\n",
      "18.40210084783157\n",
      "0.19531000000000004\n"
     ]
    }
   ],
   "source": [
    "# ============================= N = 10 ============================\n",
    "import itertools\n",
    "import pandas as pd\n",
    "\n",
    "perm_list = []\n",
    "a = [list(p) for p in itertools.permutations([1, 2, 3, 4, 5, 6, 7, 8, 9, 10])]\n",
    "for i in range(len(a)):\n",
    "    total = a[i][0]\n",
    "    for j in range(1,len(a[i])):\n",
    "        total += abs(a[i][j-1] - a[i][j])\n",
    "    perm_list.append(total)\n",
    "\n",
    "print(pd.Series(perm_list).mean())\n",
    "print(pd.Series(perm_list).std())\n",
    "\n",
    "srs = pd.Series(perm_list)\n",
    "prob = len(srs[srs >= 45])/len(srs)\n",
    "print (prob)\n",
    "\n",
    "means.append(pd.Series(perm_list).mean())\n",
    "stds.append(pd.Series(perm_list).std())\n",
    "\n",
    "# ============================= N = 20 ============================ \n",
    "\n",
    "import pandas as pd\n",
    "import tqdm\n",
    "import numpy as np\n",
    "\n",
    "means = []\n",
    "stds = []\n",
    "probs = []\n",
    "\n",
    "for loop in range(10):\n",
    "    perm_list = []\n",
    "    for i in range(10000):\n",
    "        a = list(np.random.permutation([1,2,3,4,5,6,7,8,9,10,11,12,13,14,15,16,17,18,19,20]))\n",
    "        total = a[0]\n",
    "        for j in range(1,len(a)):\n",
    "            total += abs(a[j-1] - a[j])\n",
    "        perm_list.append(total)\n",
    "\n",
    "    srs = pd.Series(perm_list)\n",
    "    prob = len(srs[srs >= 160])/len(srs)\n",
    "\n",
    "    means.append(pd.Series(perm_list).mean())\n",
    "    stds.append(pd.Series(perm_list).std())\n",
    "    probs.append(prob)\n",
    "\n",
    "print(pd.Series(means).mean())\n",
    "print(pd.Series(stds).mean())\n",
    "print(pd.Series(probs).mean())"
   ]
  },
  {
   "cell_type": "code",
   "execution_count": null,
   "metadata": {
    "collapsed": true
   },
   "outputs": [],
   "source": []
  }
 ],
 "metadata": {
  "kernelspec": {
   "display_name": "Python 3",
   "language": "python",
   "name": "python3"
  },
  "language_info": {
   "codemirror_mode": {
    "name": "ipython",
    "version": 3
   },
   "file_extension": ".py",
   "mimetype": "text/x-python",
   "name": "python",
   "nbconvert_exporter": "python",
   "pygments_lexer": "ipython3",
   "version": "3.6.0"
  }
 },
 "nbformat": 4,
 "nbformat_minor": 2
}
